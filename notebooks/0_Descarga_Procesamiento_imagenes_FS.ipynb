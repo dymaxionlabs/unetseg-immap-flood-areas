{
 "cells": [
  {
   "cell_type": "markdown",
   "metadata": {
    "id": "W-JxWB1QcvCd"
   },
   "source": [
    "\n",
    "#  **Descarga y procesamiento de imagenes DEM y LULC, y generacion de mapas de distancias a objetos de interes, a utilizar como isnumos para el modelo de inundaciones** \n",
    "\n",
    "Este notebook presenta:\n",
    "\n",
    "1- codigo para descarga de imagenes DEM-SRTM desde la plataforma Google Earth Engine (GEE) y su posterior procesamiento para la conformacion del dataset a utilizar en el modelo de susceptibilidad a inundaciones. Es importante aclarar que para poder correr este notebook se debe estar registrado en GEE; si es necesario registrarse ingresar en https://earthengine.google.com/ y seguir los pasos alli detallados;\n",
    "\n",
    "2- procesamiento del mapa de Cobertura y Uso de Suelo 2021 (LULC 2021) elaborado por ESRI y descargados desde https://www.arcgis.com/apps/instant/media/index.html?appid=fc92d38533d440078f17678ebc20e8e2;\n",
    "\n",
    "3- generacion de mapas de distancia a objetos de interes (rutas, rios), los cuales fueron generados en formato vectorial a partir del pligin de OpenStreetMaps de QGIS;\n",
    "\n",
    "4- compilacion de factores condicionantes en una unica imagen con 6 bandas.\n",
    "\n"
   ]
  },
  {
   "cell_type": "markdown",
   "metadata": {
    "id": "_h9sWdRBzYjz"
   },
   "source": [
    "# **1. Descarga de DEM**\n"
   ]
  },
  {
   "cell_type": "markdown",
   "metadata": {
    "id": "72XMj-4FDONl"
   },
   "source": [
    "##  **1.1. Instalación e importación de librerias**"
   ]
  },
  {
   "cell_type": "code",
   "execution_count": null,
   "metadata": {
    "id": "hMz4vJRCnrGS"
   },
   "outputs": [],
   "source": [
    "# Installs geemap package\n",
    "import subprocess\n",
    "\n",
    "try:\n",
    "    import geemap\n",
    "except ImportError:\n",
    "    print('geemap package not installed. Installing ...')\n",
    "    subprocess.check_call([\"python\", '-m', 'pip', 'install', 'geemap'])"
   ]
  },
  {
   "cell_type": "code",
   "execution_count": null,
   "metadata": {
    "id": "_FFUWqc7loRb"
   },
   "outputs": [],
   "source": [
    "!apt install gdal-bin python-gdal python3-gdal "
   ]
  },
  {
   "cell_type": "code",
   "execution_count": null,
   "metadata": {
    "id": "aeE1M9KooqDZ"
   },
   "outputs": [],
   "source": [
    "import ee\n",
    "import os\n",
    "from geemap import geojson_to_ee, ee_to_geojson\n",
    "from osgeo import gdal\n",
    "import numpy as np\n",
    "import shutil"
   ]
  },
  {
   "cell_type": "markdown",
   "metadata": {
    "id": "3GQwbb4vqgPK"
   },
   "source": [
    "## **1.2. Autenticacion e Inicio de Google Earth Engine**"
   ]
  },
  {
   "cell_type": "code",
   "execution_count": null,
   "metadata": {
    "id": "kdOZX3bRqfhR"
   },
   "outputs": [],
   "source": [
    "try:\n",
    "    ee.Initialize()\n",
    "except Exception as e:\n",
    "    ee.Authenticate()\n",
    "    ee.Initialize()"
   ]
  },
  {
   "cell_type": "markdown",
   "metadata": {
    "id": "LFq8sT_-pauk"
   },
   "source": [
    "## **1.3. Declaración de variables**"
   ]
  },
  {
   "cell_type": "code",
   "execution_count": null,
   "metadata": {
    "id": "-MQ79CZNn3wR"
   },
   "outputs": [],
   "source": [
    "#bucket con archivo vectorial del area de interes para modelo de inundaciones\n",
    "BUCKET_AOI = \"gs://dym-workshops-public/immap/inundaciones/aux_data/aoi/*.geojson\" \n",
    "\n",
    "#creamos las carpeta a donde descargaremos los archivos desde bucket\n",
    "BASE_PATH = \"drive/MyDrive/IMMAP/flood_susceptibility/data/\"\n",
    "PATH_AOI = f\"{BASE_PATH}/aoi_flood/\"\n",
    "DEM_PATH = f\"{BASE_PATH}/DEM/\""
   ]
  },
  {
   "cell_type": "markdown",
   "metadata": {
    "id": "W2JXpN04qSFD"
   },
   "source": [
    "## **1.4. Descarga de archivos desde bucket**"
   ]
  },
  {
   "cell_type": "code",
   "execution_count": null,
   "metadata": {
    "id": "kYBiR5repTUx"
   },
   "outputs": [],
   "source": [
    "!mkdir -p $PATH_AOI   #crea la carpeta\n",
    "!mkdir -p $DEM_PATH\n",
    "\n",
    "!gsutil -m cp -r $BUCKET_AOI   $PATH_AOI # descarga de imagenes"
   ]
  },
  {
   "cell_type": "markdown",
   "metadata": {
    "id": "dutqRFHwx-NS"
   },
   "source": [
    "## **1.5. Descarga de imagenes DEM**"
   ]
  },
  {
   "cell_type": "code",
   "execution_count": null,
   "metadata": {
    "id": "vV3JM-t_x857"
   },
   "outputs": [],
   "source": [
    "for file in os.listdir(PATH_AOI):\n",
    "    aoi = (geojson_to_ee(f'{PATH_AOI}{file}')).geometry()\n",
    "\n",
    "    srtm = ee.Image('USGS/SRTMGL1_003').clip(aoi)\n",
    "\n",
    "    # Oprcion 1: descarga de imagen S1 por departamento a Google Drive\n",
    "    task = ee.batch.Export.image.toDrive(\n",
    "        image= srtm,  \n",
    "        region= aoi,  \n",
    "        description = 'srtm_export',\n",
    "        folder = 'DEM',\n",
    "        fileNamePrefix= f'dem_srtm_espg32618',\n",
    "        #maxPixels: 1e15, \n",
    "        scale=5000,  #cambiar escala a 500 m\n",
    "        crs='EPSG:32618')\n",
    "    \n",
    "    # Oprcion 2: descarga de imagen a bucket\n",
    "    #task = ee.batch.Export.image.toCloudStorage(\n",
    "    #    image = srtm,\n",
    "    #    bucket = '{BUCKET_DEM}',  #completar con nombre BUCKET\n",
    "    #    fileNamePrefix = f\"{FILE_NAME}\",  #completar con file name\n",
    "    #    maxPixels = 8030040147504,\n",
    "    #    scale = 500,\n",
    "    #    region = aoi\n",
    "    #    crs='EPSG:32618')                              \n",
    "    \n",
    "    task.start()\n",
    "\n",
    "    import time \n",
    "    while task.active():\n",
    "        print('Polling for task (id: {}).'.format(task.id))\n",
    "        time.sleep(5)"
   ]
  },
  {
   "cell_type": "code",
   "execution_count": null,
   "metadata": {
    "id": "2SIYfH8en-q7"
   },
   "outputs": [],
   "source": [
    "#verificar que la imagen DEM fue correctamente descargada\n",
    "!ls $DEM_PATH"
   ]
  },
  {
   "cell_type": "markdown",
   "metadata": {
    "id": "Fk9jJUtaqP0C"
   },
   "source": [
    "## **1.6. Preparacion del DEM**\n",
    "\n",
    "Se deben setear los valores no dato como nan"
   ]
  },
  {
   "cell_type": "code",
   "execution_count": null,
   "metadata": {
    "id": "G3S5_4pdqcxc"
   },
   "outputs": [],
   "source": [
    "for file in os.listdir(DEM_PATH):\n",
    "    filename = f'{DEM_PATH}{file}'\n",
    "    dem = gdal.Open(filename)\n",
    "    cols = dem.RasterXSize \n",
    "    rows = dem.RasterYSize \n",
    "    proj = dem.GetProjection()\n",
    "    geotr = dem.GetGeoTransform();\n",
    "    dem_raster = dem.GetRasterBand(1)\n",
    "    noDataVal = dem_raster.GetNoDataValue()\n",
    "    \n",
    "    dem_array = dem.GetRasterBand(1).ReadAsArray(0,0,cols,rows).astype(float) \n",
    "    dem_nodata = dem_array\n",
    "    dem_nodata[np.where(dem_array == noDataVal)] = np.nan\n",
    "    \n",
    "    #save new file\n",
    "    driver = gdal.GetDriverByName('GTiff')\n",
    "    file = driver.Create(f'{DEM_PATH}dem_srtm_500m_32618_final.tif', cols, rows, 1, gdal.GDT_Float32)\n",
    "    file.GetRasterBand(1).WriteArray(dem_nodata)\n",
    "    file.GetRasterBand(1).SetNoDataValue(np.nan)\n",
    "\n",
    "    # spatial ref system\n",
    "    file.SetProjection(proj)\n",
    "    file.SetGeoTransform(geotr)\n",
    "    file.FlushCache()"
   ]
  },
  {
   "cell_type": "code",
   "execution_count": null,
   "metadata": {
    "id": "O2P1izWPqlZL"
   },
   "outputs": [],
   "source": [
    "!ls $DEM_PATH"
   ]
  },
  {
   "cell_type": "markdown",
   "metadata": {
    "id": "ZhuzPFfKqwfr"
   },
   "source": [
    "## **1.7. Generacion de mapas derivados del DEM**\n",
    "\n",
    "A continuacion se describen los pasos para generar los mapas de pendiente y el Indice Topografico de Humedad (TWI, por sus siglas en ingles), a utilizar como inputs del modelo de suceptibilidad a inundaciones.\n",
    "\n",
    "*Importante:* el mapa de elevacion debe estar proyectado.\n",
    "\n",
    "### <font color='green'> **TWI = parametro utilizado para identificar areas donde se tiende a acumular el agua teniendo en cuenta como fluye el agua de acuerdo con la pendiente que haya en los pixeles que rodean al pixel de interes. Se calcuala como: TWI = ln (As/tanß), donde As representa 'Specific Catchment Area'(parametro usualmente utilizado en hidrologia para analizar el flujo de agua en las laderas de montañas) y beta representa la pendiente. </font>"
   ]
  },
  {
   "cell_type": "code",
   "execution_count": null,
   "metadata": {
    "id": "hepc1hoYqpIU"
   },
   "outputs": [],
   "source": [
    "#PARA CORRER LAS SIGUIENTES LINEAS ES NECESARIO TENER INSTALADA LA LIBRERIA SAGA\n",
    "!sudo apt update\n",
    "!sudo apt install saga"
   ]
  },
  {
   "cell_type": "code",
   "execution_count": null,
   "metadata": {
    "id": "SxZnfTc4rIj6"
   },
   "outputs": [],
   "source": [
    "import glob\n",
    "import subprocess"
   ]
  },
  {
   "cell_type": "markdown",
   "metadata": {
    "id": "DRoQqjc_rMDe"
   },
   "source": [
    "## **1.7.a. Estimacion de mapa de pendiente (°)**\n",
    "\n",
    "https://saga-gis.sourceforge.io/saga_tool_doc/2.2.3/ta_morphometry_0.html"
   ]
  },
  {
   "cell_type": "code",
   "execution_count": null,
   "metadata": {
    "id": "jwBFyr8irUj1"
   },
   "outputs": [],
   "source": [
    "dem_file = f'{DEM_PATH}dem_srtm_500m_32618_final.tif'\n",
    "slope_file = f'{DEM_PATH}slope_degrees.sdat'\n",
    "aspect_file  = f'{DEM_PATH}aspect_degrees.sdat'\n",
    "cmd_morphometry = f'saga_cmd ta_morphometry 0 -ELEVATION {dem_file} -SLOPE {slope_file} -ASPECT {aspect_file} -METHOD {6} -UNIT_SLOPE {1} -UNIT_ASPECT {1}'\n",
    "subprocess.run(cmd_morphometry, shell=True)"
   ]
  },
  {
   "cell_type": "code",
   "execution_count": null,
   "metadata": {
    "id": "94oomBrlrZdb"
   },
   "outputs": [],
   "source": [
    "#paso el archivo a GeoTiff\n",
    "#Module Export Raster https://saga-gis.sourceforge.io/saga_tool_doc/2.3.0/io_gdal_1.html\n",
    "slope_file_tif = f'{DEM_PATH}slope_degrees.tif'\n",
    "cmd_slope_export = f'saga_cmd io_gdal 1 -GRIDS {slope_file} -FILE {slope_file_tif} -FORMAT {1} -TYPE {6} -SET_NODATA {1} -NODATA {np.nan}' \n",
    "subprocess.run(cmd_slope_export, shell=True)"
   ]
  },
  {
   "cell_type": "markdown",
   "metadata": {
    "id": "u8Dd1raSrgij"
   },
   "source": [
    "## **1.7.b. Estimacion de mapa de pendiente (rad) para posterior estimacion de TWI**"
   ]
  },
  {
   "cell_type": "code",
   "execution_count": null,
   "metadata": {
    "id": "HerdiJqwrmyc"
   },
   "outputs": [],
   "source": [
    "#leo archivo de pendiente\n",
    "infile = f'{DEM_PATH}slope_degrees.tif'\n",
    "raster = gdal.Open(infile)\n",
    "noDataVal = raster.GetRasterBand(1).GetNoDataValue() \n",
    "array = raster.GetRasterBand(1).ReadAsArray(0,0,raster.RasterXSize,raster.RasterYSize).astype(float) \n",
    "reclass = array\n",
    "reclass[np.where(array == 0)] = 0.01 # change 0 values to 0.01\n",
    "reclass = reclass*0.01745  #transform to radian values\n",
    "\n",
    "#save slope in radian file\n",
    "driver = gdal.GetDriverByName('GTiff')\n",
    "file = driver.Create(f'{DEM_PATH}slope_radians.tif', raster.RasterXSize, raster.RasterYSize , 1, gdal.GDT_Float32)\n",
    "file.GetRasterBand(1).WriteArray(reclass)\n",
    "file.GetRasterBand(1).SetNoDataValue(np.nan)\n",
    "\n",
    "# spatial ref system\n",
    "file.SetProjection(raster.GetProjection())\n",
    "file.SetGeoTransform(raster.GetGeoTransform())\n",
    "file.FlushCache()"
   ]
  },
  {
   "cell_type": "markdown",
   "metadata": {
    "id": "FxxIVxzRr0rF"
   },
   "source": [
    "## **1.7.b. Estimacion de TWI**\n",
    "\n",
    "Para estimar TWI, los pasos a seguir son:\n",
    "\n",
    "1-Fill Sinks: remover depresiones locales (sinks) - necesario para estimar Flow Accumulation (o direccion de flujo) \n",
    "https://saga-gis.sourceforge.io/saga_tool_doc/2.2.3/ta_preprocessor_4.html\n",
    "\n",
    "2-Flow Accumulation (Top-Down) (aka Flow Catchment area // Acumulacion de Flujo) - se utiliza para identificar planicies o cuencas hidrograficas. Por ejemplo, para cada celda, la acumulacion de flujo esta determinada por cuantas celdas fluyen a traves de esta celda; si el valor de acumulacion de flujo es mayor, el area sera mas facil para formar una escorrentia. Se utiliza para estimar Specific Catchment area.\n",
    "https://saga-gis.sourceforge.io/saga_tool_doc/2.3.0/ta_hydrology_0.html\n",
    "\n",
    "3-Specific Catchment area: parametro usualmente utilizado en hidrologia para analizar el flujo de agua en las laderas de monta;as. Insumo de TWI. \n",
    "https://saga-gis.sourceforge.io/saga_tool_doc/2.2.3/ta_hydrology_19.html\n",
    "\n",
    "4-TWI: insumos - Specific Catchment Area + Slope (radians).\n",
    "https://saga-gis.sourceforge.io/saga_tool_doc/2.2.3/ta_hydrology_20.html"
   ]
  },
  {
   "cell_type": "code",
   "execution_count": null,
   "metadata": {
    "id": "iLlrtExcrznL"
   },
   "outputs": [],
   "source": [
    "#Fill sinks\n",
    "filled_file = f'{DEM_PATH}DEM_aoi_filled_sink.sdat'\n",
    "cmd_sinks = f\"saga_cmd ta_preprocessor 5 -ELEV {dem_file} -FILLED  {filled_file} -MINSLOPE {0.01}\"\n",
    "subprocess.run(cmd_sinks, shell=True)"
   ]
  },
  {
   "cell_type": "code",
   "execution_count": null,
   "metadata": {
    "id": "gqCyPjELrKtr"
   },
   "outputs": [],
   "source": [
    "# Flow accumulation\n",
    "fl_accu = f'{DEM_PATH}flow_accu_mt4_fillsink0pt001.sdat'\n",
    "mean_over_catchment = f'{DEM_PATH}mean_over_catchment.sdat'\n",
    "cmd_flow_accumulation = f'saga_cmd ta_hydrology 0 -ELEVATION {filled_file} -FLOW {fl_accu} -VAL_MEAN {mean_over_catchment} -ACCU_TARGET {fl_accu} -STEP {1} -FLOW_UNIT {1} -METHOD {4} -LINEAR_DO {0} -LINEAR_MIN {500} -CONVERGENCE {1.1000000} -NO_NEGATIVES {1}'\n",
    "subprocess.run(cmd_flow_accumulation, shell=True)"
   ]
  },
  {
   "cell_type": "code",
   "execution_count": null,
   "metadata": {
    "id": "jtpGByVBsTs7"
   },
   "outputs": [],
   "source": [
    "#Specific Catchment Area\n",
    "flow_width = f'{DEM_PATH}fl_width.sdat'\n",
    "sp_cath_area = f'{DEM_PATH}sca.sdat'\n",
    "cmd_sca = f'saga_cmd ta_hydrology 19 -DEM {filled_file} -WIDTH {flow_width} -TCA {fl_accu} -SCA {sp_cath_area} -METHOD {2}'\n",
    "subprocess.run(cmd_sca, shell=True)"
   ]
  },
  {
   "cell_type": "code",
   "execution_count": null,
   "metadata": {
    "id": "QpTGUw2GsVMT"
   },
   "outputs": [],
   "source": [
    "#TWI\n",
    "twi = f'{DEM_PATH}twi_topmodel.sdat'\n",
    "slope_rad_file = f'{DEM_PATH}slope_radians.tif'\n",
    "cmd_twi = f'saga_cmd ta_hydrology 20 -SLOPE {slope_rad_file} -AREA {sp_cath_area} -TWI {twi} -CONV {0} -METHOD {1}'\n",
    "subprocess.run(cmd_twi, shell=True)"
   ]
  },
  {
   "cell_type": "code",
   "execution_count": null,
   "metadata": {
    "id": "a4_CaITSsjD0"
   },
   "outputs": [],
   "source": [
    "#convierto a .tif\n",
    "twi_file_tif = f'{DEM_PATH}twi_topmodel.tif'\n",
    "cmd_twi_export = f'saga_cmd io_gdal 1 -GRIDS {twi} -FILE {twi_file_tif} -FORMAT {1} -TYPE {6} -SET_NODATA {1} -NODATA {np.nan}'\n",
    "subprocess.run(cmd_twi_export, shell=True)"
   ]
  },
  {
   "cell_type": "code",
   "execution_count": null,
   "metadata": {
    "id": "3bPZRqhE9-q3"
   },
   "outputs": [],
   "source": [
    "#delete saga temporary files\n",
    "args_sdat = ('rm', '-rf', f'{DEM_PATH}*.sdat')\n",
    "args_mgrd = ('rm', '-rf', f'{DEM_PATH}*.mgrd')\n",
    "args_prj = ('rm', '-rf', f'{DEM_PATH}*.prj')\n",
    "args_xml = ('rm', '-rf', f'{DEM_PATH}*.xml')\n",
    "args_sgrd = ('rm', '-rf', f'{DEM_PATH}*.sgrd')\n",
    "subprocess.call('%s %s %s' % args_sdat, shell=True)\n",
    "subprocess.call('%s %s %s' % args_mgrd, shell=True)\n",
    "subprocess.call('%s %s %s' % args_prj, shell=True)\n",
    "subprocess.call('%s %s %s' % args_xml, shell=True)\n",
    "subprocess.call('%s %s %s' % args_sgrd, shell=True)"
   ]
  },
  {
   "cell_type": "markdown",
   "metadata": {
    "id": "8HTheecLDDUW"
   },
   "source": [
    "-----------------------------------------"
   ]
  },
  {
   "cell_type": "markdown",
   "metadata": {
    "id": "ZviGIqn7D1no"
   },
   "source": [
    "# **2. Procesamiento LULC para modelo inundaciones**"
   ]
  },
  {
   "cell_type": "markdown",
   "metadata": {
    "id": "yADhFw9RD_RL"
   },
   "source": [
    "##  **2.1. Instalación e importación de librerias**"
   ]
  },
  {
   "cell_type": "code",
   "execution_count": null,
   "metadata": {
    "id": "_NY-cYWaEO7u"
   },
   "outputs": [],
   "source": [
    "!pip install geopandas"
   ]
  },
  {
   "cell_type": "code",
   "execution_count": null,
   "metadata": {
    "id": "fZaia5fB-_Es"
   },
   "outputs": [],
   "source": [
    "from pathlib import Path\n",
    "import glob\n",
    "from os import remove\n",
    "import geopandas as gpd"
   ]
  },
  {
   "cell_type": "markdown",
   "metadata": {
    "id": "TlaLjpiOEXkQ"
   },
   "source": [
    "## **2.2. Declaración de variables**"
   ]
  },
  {
   "cell_type": "code",
   "execution_count": null,
   "metadata": {
    "id": "fYt363IIEWsG"
   },
   "outputs": [],
   "source": [
    "#bucket con los archivos a utilizar\n",
    "#LULC\n",
    "BUCKET_LULC = \"gs://dym-workshops-public/immap/asentamientos/aux_data/LULC/*.tif\"\n",
    "\n",
    "#creamos las carpetas a donde descargaremos los archivos desde el bucket\n",
    "BASE_PATH = \"drive/MyDrive/IMMAP/flood_susceptibility/data/\"\n",
    "PATH_LULC_FILES = f\"{BASE_PATH}LULC_files/\"\n",
    "\n",
    "#carpeta de guardado de las mascara de area construida\n",
    "PATH_LULC_MASK = f\"{BASE_PATH}/LULC_MASK/\"\n",
    "\n",
    "#PARAMETROS GENERALES\n",
    "aoi = 'colombia'\n",
    "prj = \"32618\""
   ]
  },
  {
   "cell_type": "markdown",
   "metadata": {
    "id": "sN9GqrMlG3-X"
   },
   "source": [
    "## **2.3. Descarga de archivos desde bucket**"
   ]
  },
  {
   "cell_type": "code",
   "execution_count": null,
   "metadata": {
    "id": "STfQYy6jG0yX"
   },
   "outputs": [],
   "source": [
    "#LULC\n",
    "!mkdir -p $PATH_LULC_FILES   #crea la carpeta\n",
    "!gsutil -m cp -r $BUCKET_LULC   $PATH_LULC_FILES # descarga de archivos'''"
   ]
  },
  {
   "cell_type": "markdown",
   "metadata": {
    "id": "fq-KYc_7IfVX"
   },
   "source": [
    "## **2.4. Generar LULC 500m**"
   ]
  },
  {
   "cell_type": "code",
   "execution_count": null,
   "metadata": {
    "id": "kvrkZfWpJM_u"
   },
   "outputs": [],
   "source": [
    "for file in os.listdir(PATH_LULC_FILES):\n",
    "    print(file)"
   ]
  },
  {
   "cell_type": "code",
   "execution_count": null,
   "metadata": {
    "id": "w7ytJ2Tp2u3J"
   },
   "outputs": [],
   "source": [
    "#resample to 500m\n",
    "for file in os.listdir(PATH_LULC_FILES):\n",
    "    if file.endswith('.tif'):\n",
    "        infile_resample = f'{PATH_LULC_FILES}{file}'\n",
    "        outfile_resample = f'{PATH_LULC_FILES}{file[0:-4]}_500m.vrt'\n",
    "        ds_subset = gdal.Open(infile_resample)\n",
    "        dsResampl = gdal.Warp(outfile_resample, ds_subset, xRes = 5000, yRes = 5000) #CAMBIAR xRes/yRes a 500\n",
    "        dsResampl = None "
   ]
  },
  {
   "cell_type": "code",
   "execution_count": null,
   "metadata": {
    "id": "sWE0V9KEG073"
   },
   "outputs": [],
   "source": [
    "# unificar la proyeccion de los archivos LULC\n",
    "for file in os.listdir(PATH_LULC_FILES):\n",
    "    if file.endswith('_500m.vrt'):\n",
    "        ds = gdal.Open(f'{PATH_LULC_FILES}{file}')\n",
    "        output_file = f'{PATH_LULC_FILES}{file[0:-4]}_epsg{prj}.vrt'\n",
    "        dsReprj = gdal.Warp(output_file, ds, dstSRS=f'EPSG:{prj}', format='VRT')\n",
    "        #ds = None\n",
    "        #dsReprj = None"
   ]
  },
  {
   "cell_type": "code",
   "execution_count": null,
   "metadata": {
    "id": "mWT36XQXnxQw"
   },
   "outputs": [],
   "source": [
    "outfile_mosaic = f'{PATH_LULC_FILES}lulc2021_mosaic_500m.tif'\n",
    "files_to_mosaic = glob.glob(os.path.join(Path(PATH_LULC_FILES, \"*_epsg32618.vrt\")))\n",
    "m = gdal.Warp(outfile_mosaic, files_to_mosaic, format = \"GTiff\", options =[\"TILED=YES\"])\n",
    "m = None \n",
    "del m"
   ]
  },
  {
   "cell_type": "code",
   "execution_count": null,
   "metadata": {
    "id": "r7WkbiQ9CvvW"
   },
   "outputs": [],
   "source": [
    "#subset by aoi\n",
    "for file in os.listdir(PATH_AOI):\n",
    "    gdf = f'{PATH_AOI}{file}'\n",
    "    infile_subset = f'{PATH_LULC_FILES}lulc2021_mosaic_500m.tif'\n",
    "    outfile_subset = f'{PATH_LULC_FILES}lulc2021_500m_aoi.tif'\n",
    "    dataset_subset = gdal.Open(infile_subset)\n",
    "\n",
    "    ds_recorte = gdal.Warp(outfile_subset, dataset_subset , cutlineDSName = gdf, cropToCutline = True, dstNodata = np.nan)\n",
    "    ds_recorte = None"
   ]
  },
  {
   "cell_type": "code",
   "execution_count": null,
   "metadata": {
    "id": "_973CK7HWwoO"
   },
   "outputs": [],
   "source": [
    "# set no data as nan and mask out non urban classes\n",
    "raster = gdal.Open(f'{PATH_LULC_FILES}lulc2021_500m_aoi.tif')\n",
    "noDataVal = raster.GetRasterBand(1).GetNoDataValue() \n",
    "array = raster.GetRasterBand(1).ReadAsArray(0,0,raster.RasterXSize,raster.RasterYSize).astype(float) \n",
    "reclass = array\n",
    "reclass[np.where(array == noDataVal)] = np.nan\n",
    "    \n",
    "#save new file\n",
    "driver = gdal.GetDriverByName('GTiff')\n",
    "file = driver.Create(f'{PATH_LULC_FILES}lulc2021_500m_final.tif', raster.RasterXSize,raster.RasterYSize, 1, gdal.GDT_Float32)\n",
    "file.GetRasterBand(1).WriteArray(reclass)\n",
    "file.GetRasterBand(1).SetNoDataValue(np.nan)\n",
    "\n",
    "# spatial ref system\n",
    "file.SetProjection(raster.GetProjection())\n",
    "file.SetGeoTransform(raster.GetGeoTransform())\n",
    "file.FlushCache()"
   ]
  },
  {
   "cell_type": "code",
   "execution_count": null,
   "metadata": {
    "id": "qyDRgTOL0YzY"
   },
   "outputs": [],
   "source": [
    "for f in glob.glob(os.path.join(Path(PATH_LULC_FILES, \"*.vrt\"))):\n",
    "    os.remove(f)\n",
    "\n",
    "for f in glob.glob(os.path.join(Path(PATH_LULC_FILES, \"*.tif\"))):\n",
    "    if f.endswith('_aoi.tif'):\n",
    "        os.remove(f)\n",
    "    else:\n",
    "        pass"
   ]
  },
  {
   "cell_type": "markdown",
   "metadata": {
    "id": "QPPBqayaFpCL"
   },
   "source": [
    "-------------------------------"
   ]
  },
  {
   "cell_type": "markdown",
   "metadata": {
    "id": "wroQ7G3og7Dx"
   },
   "source": [
    "# **3. Generacion de mapas de distancias a objetos de interes**"
   ]
  },
  {
   "cell_type": "markdown",
   "metadata": {
    "id": "cCVXAeqQ5VHh"
   },
   "source": [
    "##  **3.1. Instalación e importación de librerias**"
   ]
  },
  {
   "cell_type": "code",
   "execution_count": null,
   "metadata": {
    "id": "cscvFWibYgHd"
   },
   "outputs": [],
   "source": [
    "!pip install rasterio"
   ]
  },
  {
   "cell_type": "code",
   "execution_count": null,
   "metadata": {
    "id": "Hw39LAvqh2Ax"
   },
   "outputs": [],
   "source": [
    "import osr\n",
    "import sys\n",
    "import rasterio"
   ]
  },
  {
   "cell_type": "markdown",
   "metadata": {
    "id": "WKAx-k3J5bqn"
   },
   "source": [
    "## **3.2. Declaración de variables**"
   ]
  },
  {
   "cell_type": "code",
   "execution_count": null,
   "metadata": {
    "id": "TX5W17fKjInj"
   },
   "outputs": [],
   "source": [
    "#bucket con archivo vectorial del area de interes para modelo de inundaciones\n",
    "BUCKET_OSM = \"gs://dym-workshops-public/immap/inundaciones/aux_data/OSM/*.gpkg\" \n",
    "\n",
    "#creamos las carpeta a donde descargaremos los archivos desde bucket\n",
    "BASE_PATH = \"drive/MyDrive/IMMAP/flood_susceptibility/data/\"\n",
    "PATH_OSM = f\"{BASE_PATH}/OSM/\"\n",
    "\n",
    "#PARAMETROS GENERALES\n",
    "prj = \"32618\""
   ]
  },
  {
   "cell_type": "markdown",
   "metadata": {
    "id": "kKmxA6fp5f_Y"
   },
   "source": [
    "## **3.3. Descarga de archivos desde bucket**"
   ]
  },
  {
   "cell_type": "code",
   "execution_count": null,
   "metadata": {
    "id": "vxu2ER8UlPAI"
   },
   "outputs": [],
   "source": [
    "!mkdir -p $PATH_OSM   #crea la carpeta\n",
    "\n",
    "!gsutil -m cp -r $BUCKET_OSM   $PATH_OSM # descarga de imagenes"
   ]
  },
  {
   "cell_type": "code",
   "execution_count": null,
   "metadata": {
    "id": "n0p4hFU_VoWx"
   },
   "outputs": [],
   "source": [
    "!ls $PATH_OSM"
   ]
  },
  {
   "cell_type": "markdown",
   "metadata": {
    "id": "57liHkkK5tdm"
   },
   "source": [
    "## **3.4. Generacion de rasters vacios**\n",
    "\n",
    "Se generan rasters vacios sobre los que despues se van a calcular las distancias a los objetos de interes."
   ]
  },
  {
   "cell_type": "code",
   "execution_count": null,
   "metadata": {
    "id": "LrA1BgbsOrFI"
   },
   "outputs": [],
   "source": [
    "#se lee un raster de base para obtener parametros generales a utilizar en el raster vacio\n",
    "base_raster = gdal.Open(f'{DEM_PATH}dem_srtm_500m_32618_final.tif') \n",
    "col = base_raster.RasterXSize \n",
    "row = base_raster.RasterYSize \n",
    "gtr = base_raster.GetGeoTransform()\n",
    "nodata = np.nan\n",
    "\n",
    "spatref = osr.SpatialReference()\n",
    "spatref.ImportFromEPSG(int(prj))\n",
    "wkt = spatref.ExportToWkt()\n",
    "\n",
    "#raster vacio para calcular distancia a rios\n",
    "output_empty_file_rivers = f'{PATH_OSM}distance_from_river.tif'\n",
    "\n",
    "driver = gdal.GetDriverByName('GTiff')\n",
    "empty_file = driver.Create(output_empty_file_rivers, col, row, 1, gdal.GDT_Float32)\n",
    "empty_file.SetProjection(wkt)\n",
    "empty_file.SetGeoTransform(gtr)\n",
    "empty_file.GetRasterBand(1).Fill(0)\n",
    "empty_file.GetRasterBand(1).SetNoDataValue(nodata)\n",
    "empty_file.FlushCache()\n",
    "empty_file = None\n",
    "\n",
    "#raster vacio para calcular distancia a calles\n",
    "output_empty_file_roads = f'{PATH_OSM}distance_from_roads.tif'\n",
    "\n",
    "empty_file_roads = driver.Create(output_empty_file_roads, col, row, 1, gdal.GDT_Float32)\n",
    "empty_file_roads.SetProjection(wkt)\n",
    "empty_file_roads.SetGeoTransform(gtr)\n",
    "empty_file_roads.GetRasterBand(1).Fill(0)\n",
    "empty_file_roads.GetRasterBand(1).SetNoDataValue(nodata)\n",
    "empty_file_roads.FlushCache()\n",
    "empty_file_roads = None\n"
   ]
  },
  {
   "cell_type": "markdown",
   "metadata": {
    "id": "9S6wxKwR7KRQ"
   },
   "source": [
    "## **3.4. Rasterizar archivos vectoriales de objeto de interes**"
   ]
  },
  {
   "cell_type": "code",
   "execution_count": null,
   "metadata": {
    "id": "5s-tDN_JWK3d"
   },
   "outputs": [],
   "source": [
    "# se lee un raster de base para obtener parametros generales a utilizar en la rasterizacion de un archivo vectorial\n",
    "base_raster_vec = f'{DEM_PATH}dem_srtm_500m_32618_final.tif'\n",
    "bounds = rasterio.open(base_raster_vec ).bounds   \n",
    "extent = f\"{bounds[0]}  {bounds[1]} {bounds[2]} {bounds[3]}\"\n",
    "height, width = rasterio.open(base_raster_vec).shape"
   ]
  },
  {
   "cell_type": "code",
   "execution_count": null,
   "metadata": {
    "id": "Q5PGCbeLZRPB"
   },
   "outputs": [],
   "source": [
    "# path a los archivos vectoriales\n",
    "river_vector_path = f'{PATH_OSM}waterway_epsg32618.gpkg'\n",
    "roads_vector_path = f'{PATH_OSM}highway_epsge32618.gpkg'"
   ]
  },
  {
   "cell_type": "code",
   "execution_count": null,
   "metadata": {
    "id": "kH1tUQy-Uk8_"
   },
   "outputs": [],
   "source": [
    "# funcion para rasterizar los archivos\n",
    "cmd_rasterize_river = f'gdal_rasterize -burn 255 -ot Byte -ts {width} {height}  -te {extent} {river_vector_path} {PATH_OSM}river_rasterized.tif'\n",
    "subprocess.run(cmd_rasterize_river, shell=True)"
   ]
  },
  {
   "cell_type": "code",
   "execution_count": null,
   "metadata": {
    "id": "haOVcIWp8b5a"
   },
   "outputs": [],
   "source": [
    "cmd_rasterize_roads = f'gdal_rasterize -burn 255 -ot Byte -ts {width} {height}  -te {extent} {roads_vector_path} {PATH_OSM}roads_rasterized.tif'\n",
    "subprocess.run(cmd_rasterize_roads, shell=True)"
   ]
  },
  {
   "cell_type": "code",
   "execution_count": null,
   "metadata": {
    "id": "MMoOYX1WaYiZ"
   },
   "outputs": [],
   "source": [
    "# calculo de distancias\n",
    "values = '255'\n",
    "maxdist = '50000'\n",
    "nodata = '-9999'\n",
    "\n",
    "#distancia a rios\n",
    "cmd_proximity_rivers = f'gdal_proximity.py -values {values} -distunits GEO -maxdist {maxdist} -nodata {nodata}  {PATH_OSM}river_rasterized.tif {PATH_OSM}distance_from_river.tif -co COMPRESS=DEFLATE -co BIGTIFF=YES -co TILED=YES'\n",
    "subprocess.run(cmd_proximity_rivers, shell=True)\n",
    "\n",
    "#distancia a calles\n",
    "cmd_proximity_roads = f'gdal_proximity.py -values {values} -distunits GEO -maxdist {maxdist} -nodata {nodata}  {PATH_OSM}roads_rasterized.tif {PATH_OSM}distance_from_roads.tif -co COMPRESS=DEFLATE -co BIGTIFF=YES -co TILED=YES'\n",
    "subprocess.run(cmd_proximity_roads, shell=True)"
   ]
  },
  {
   "cell_type": "code",
   "execution_count": null,
   "metadata": {
    "id": "BOUVPlr3Tycq"
   },
   "outputs": [],
   "source": [
    "#remove files\n",
    "for f in glob.glob(os.path.join(Path(PATH_OSM, \"*_rasterized.tif\"))):\n",
    "    os.remove(f)"
   ]
  },
  {
   "cell_type": "markdown",
   "metadata": {
    "id": "5b5KQtaLFQ50"
   },
   "source": [
    "--------------------------------------------"
   ]
  },
  {
   "cell_type": "markdown",
   "metadata": {
    "id": "eNlTLm_Q0fO7"
   },
   "source": [
    "# **4. Creacion del dataset**"
   ]
  },
  {
   "cell_type": "code",
   "execution_count": null,
   "metadata": {
    "id": "WWJ7_iEv0x9c"
   },
   "outputs": [],
   "source": [
    "DATASET_PATH = f\"{BASE_PATH}/dataset/\"\n",
    "!mkdir -p $DATASET_PATH "
   ]
  },
  {
   "cell_type": "code",
   "execution_count": null,
   "metadata": {
    "id": "eH3dyqg402zU"
   },
   "outputs": [],
   "source": [
    "#movemos los archivos generados para el dataset a la carpeta de dataset\n",
    "#DEM y derivados\n",
    "shutil.move(f'{DEM_PATH}dem_srtm_500m_32618_final.tif', DATASET_PATH)\n",
    "shutil.move(f'{DEM_PATH}slope_degrees.tif', DATASET_PATH)\n",
    "shutil.move(f'{DEM_PATH}twi_topmodel.tif', DATASET_PATH)\n",
    "\n",
    "#lulc\n",
    "shutil.move(f'{PATH_LULC_FILES}lulc2021_500m_final.tif', DATASET_PATH)\n",
    "\n",
    "#distancias\n",
    "shutil.move(f'{PATH_OSM}distance_from_roads.tif', DATASET_PATH)\n",
    "shutil.move(f'{PATH_OSM}distance_from_river.tif', DATASET_PATH)"
   ]
  },
  {
   "cell_type": "code",
   "execution_count": null,
   "metadata": {
    "id": "TefVEbSN1hqM"
   },
   "outputs": [],
   "source": [
    "#mosaico del dataset\n",
    "files_to_mosaic = glob.glob(os.path.join(DATASET_PATH, \"*.tif\"))\n",
    "dataset_files_txt = f'{DATASET_PATH}files.txt'\n",
    "\n",
    "textfile = open(dataset_files_txt, \"w\")\n",
    "for line in files_to_mosaic:\n",
    "    textfile.write(line + \"\\n\")\n",
    "textfile.close()\n",
    "\n",
    "dataset_mosaic_path = f'{DATASET_PATH}dataset.vrt' # ruta de destino del dataset\n",
    "\n",
    "cmd = f'gdalbuildvrt -separate {dataset_mosaic_path} -input_file_list {dataset_files_txt}'\n",
    "subprocess.run(cmd, shell=True)\n",
    "\n",
    "cmd2= f'gdalinfo {dataset_mosaic_path}'\n",
    "subprocess.run(cmd2, shell=True)\n",
    "\n",
    "#reproyeccion a EPSG 4326\n",
    "ds_rp = gdal.Open(f'{DATASET_PATH}dataset.vrt')\n",
    "output_file = f'{DATASET_PATH}dataset_final.tif'\n",
    "\n",
    "gdal.UseExceptions()\n",
    "dsReprj = gdal.Warp(output_file, ds_rp, dstSRS='EPSG:4326')\n",
    "ds_rp = None\n",
    "dsReprj = None"
   ]
  }
 ],
 "metadata": {
  "colab": {
   "collapsed_sections": [],
   "name": "0_Descarga_Procesamiento_imagenes_FS.ipynb",
   "provenance": []
  },
  "kernelspec": {
   "display_name": "Python 3 (ipykernel)",
   "language": "python",
   "name": "python3"
  },
  "language_info": {
   "codemirror_mode": {
    "name": "ipython",
    "version": 3
   },
   "file_extension": ".py",
   "mimetype": "text/x-python",
   "name": "python",
   "nbconvert_exporter": "python",
   "pygments_lexer": "ipython3",
   "version": "3.7.12"
  },
  "toc": {
   "base_numbering": 1,
   "nav_menu": {},
   "number_sections": true,
   "sideBar": true,
   "skip_h1_title": false,
   "title_cell": "Table of Contents",
   "title_sidebar": "Contents",
   "toc_cell": false,
   "toc_position": {},
   "toc_section_display": true,
   "toc_window_display": false
  }
 },
 "nbformat": 4,
 "nbformat_minor": 1
}
