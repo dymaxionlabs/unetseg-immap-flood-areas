{
 "cells": [
  {
   "cell_type": "markdown",
   "metadata": {
    "id": "W-JxWB1QcvCd"
   },
   "source": [
    "\n",
    "#  **Post-procesamiento de la imagen de prediccion de modelo de inundaciones** \n",
    "\n",
    "En este notebook se presentan los pasos seguidos para el post-procesamiento de los resultados predichos del modelo de area suscpetibles a inundacion. Estos pasos incluyen:\n",
    "\n",
    "1. Filtro por umbral de probabilidad;\n",
    "\n",
    "2. Poligonizacion y filtro por area;\n",
    "\n",
    "3. Extraccion de resultados en base a raster original; \n",
    "\n",
    "4. Extraccion de resultados por municipio.\n"
   ]
  },
  {
   "cell_type": "markdown",
   "metadata": {
    "id": "72XMj-4FDONl"
   },
   "source": [
    "#  **1. Instalación e importación de librerias**"
   ]
  },
  {
   "cell_type": "code",
   "execution_count": null,
   "metadata": {
    "id": "knfC93YF9aND"
   },
   "outputs": [],
   "source": [
    "!pip install geopandas\n",
    "!pip install pysatproc"
   ]
  },
  {
   "cell_type": "code",
   "execution_count": null,
   "metadata": {
    "id": "zfpHm03Q9cgz"
   },
   "outputs": [],
   "source": [
    "from satproc.postprocess.polygonize import polygonize \n",
    "from satproc.filter import filter_by_max_prob\n",
    "import subprocess\n",
    "import os\n",
    "import geopandas as gpd\n",
    "from pathlib import Path\n",
    "import glob\n",
    "from osgeo import gdal\n",
    "import numpy as np\n",
    "from osgeo import ogr, osr"
   ]
  },
  {
   "cell_type": "markdown",
   "metadata": {
    "id": "LFq8sT_-pauk"
   },
   "source": [
    "## **2. Declaración de variables**"
   ]
  },
  {
   "cell_type": "code",
   "execution_count": null,
   "metadata": {
    "id": "-MQ79CZNn3wR"
   },
   "outputs": [],
   "source": [
    "#bucket con el archivo raster del resultado de la prediccion sin post-procesamiento\n",
    "BUCKET_PRED = \"gs://dym-workshops-public/immap/inundaciones/results/*.tif\" \n",
    "\n",
    "#bcuket con archivo vectorial de municipios para recorte final del resultado de prediccion\n",
    "BUCKET_MUN = \"gs://dym-workshops-public/immap/asentamientos/aux_data/municipios/munis_final.gpkg\"\n",
    "\n",
    "#creamos la carpeta a donde descargaremos los archivos desde bucket \n",
    "BASE_PATH = \"drive/MyDrive/IMMAP/flood_susceptibility/data/\"\n",
    "PATH_PRED_FILES = f\"{BASE_PATH}/flood_pred/\"\n",
    "PATH_MUN_FILES = f\"{BASE_PATH}/MUN_files/\""
   ]
  },
  {
   "cell_type": "markdown",
   "metadata": {
    "id": "W2JXpN04qSFD"
   },
   "source": [
    "## **3. Descarga de archivos desde bucket**"
   ]
  },
  {
   "cell_type": "code",
   "execution_count": null,
   "metadata": {
    "id": "dvd0Rdobkt87"
   },
   "outputs": [],
   "source": [
    "#RASTER PREDICCION\n",
    "!mkdir -p $PATH_PRED_FILES   #crea la carpeta\n",
    "!gsutil -m cp -r $BUCKET_PRED   $PATH_PRED_FILES # descarga de imagenes\n",
    "\n",
    "#MUNICIPIOS\n",
    "!mkdir -p $PATH_MUN_FILES   #crea la carpeta\n",
    "!gsutil -m cp -r $BUCKET_MUN   $PATH_MUN_FILES # descarga de archivos"
   ]
  },
  {
   "cell_type": "markdown",
   "metadata": {
    "id": "dutqRFHwx-NS"
   },
   "source": [
    "## **4. Filtro por umbral de probabilidad**"
   ]
  },
  {
   "cell_type": "code",
   "execution_count": null,
   "metadata": {
    "id": "5njqOaLtX5Uz"
   },
   "outputs": [],
   "source": [
    "#definimos el umbral a la probabilidad\n",
    "THR = 0.2\n",
    "thr1=str(int(THR*255))\n",
    "\n",
    "input_pred = f'{PATH_PRED_FILES}all_v0.tif'\n",
    "output_pred_threshold = f'{PATH_PRED_FILES}all_v0_threshold.tif'\n",
    "exp = \"((A >\"+thr1+\")*199)\"\n",
    "cmd_calc = f'gdal_calc.py -A {input_pred} --A_band=1 --outfile {output_pred_threshold} --calc=\"{exp}\" --NoDataValue=0'\n",
    "subprocess.run(cmd_calc, shell=True)"
   ]
  },
  {
   "cell_type": "markdown",
   "metadata": {
    "id": "Fk9jJUtaqP0C"
   },
   "source": [
    "## **5. Poligonizacion de las areas con pb mayor al umbral**"
   ]
  },
  {
   "cell_type": "code",
   "execution_count": null,
   "metadata": {
    "id": "PTgFoxy2YRba"
   },
   "outputs": [],
   "source": [
    "output_shp_path = f'{PATH_PRED_FILES}all_v0_threshold_poligonized.gpkg'\n",
    "cmd_polygonize = f'gdal_polygonize.py {output_pred_threshold} {output_shp_path}'\n",
    "subprocess.run(cmd_polygonize, shell=True)"
   ]
  },
  {
   "cell_type": "markdown",
   "metadata": {
    "id": "ZhuzPFfKqwfr"
   },
   "source": [
    "## **6. Filtro por area minima**"
   ]
  },
  {
   "cell_type": "code",
   "execution_count": null,
   "metadata": {
    "id": "7FAd_8yNu2Io"
   },
   "outputs": [],
   "source": [
    "#reproyeccion a UTM, a fin de poder estimar las areas de los poligonos y filtrar poligonos chicos (se eliminan falsos positivos)\n",
    "output_shp_path_pr = f'{output_shp_path[0:-8]}_epsg32618.gpkg'\n",
    "!ogr2ogr -s_srs EPSG:4326 -t_srs EPSG:32618 -f 'GPKG' $output_shp_path_pr $output_shp_path\n",
    "print('<<<<<<<<<<<<',output_shp_path_pr)"
   ]
  },
  {
   "cell_type": "code",
   "execution_count": null,
   "metadata": {
    "id": "ZtgsqbDs-QGw"
   },
   "outputs": [],
   "source": [
    "min_area=750000 \n",
    "\n",
    "output_area_min =  f'{output_shp_path_pr[0:-8]}_{min_area}.gpkg'\n",
    "\n",
    "!ogr2ogr \\\n",
    "    -t_srs EPSG:32618 \\\n",
    "    -f \"GPKG\" \\\n",
    "    -sql \"SELECT * FROM out m WHERE (ST_Area(geom) > $min_area)\" \\\n",
    "    -dialect SQLITE \\\n",
    "    -nln results \\\n",
    "    $output_area_min \\\n",
    "    $output_shp_path_pr\n",
    "print(\">>>>>>>>\",output_area_min)\n"
   ]
  },
  {
   "cell_type": "code",
   "execution_count": null,
   "metadata": {
    "id": "OpO3ED0nq54Y"
   },
   "outputs": [],
   "source": [
    "# buffer de 0m para seleccionar los poligonos de interes\n",
    "buffer_output= f'{output_area_min[0:-8]}_buf.gpkg'\n",
    "!ogr2ogr -f \"GPKG\"  $buffer_output $output_area_min -dialect sqlite -sql \"select ST_buffer(geom, 0) as geom FROM results\""
   ]
  },
  {
   "cell_type": "markdown",
   "metadata": {
    "id": "DRoQqjc_rMDe"
   },
   "source": [
    "## **7.Recorte del raster de prediccion original por los poligonos mayores al area minima**\n"
   ]
  },
  {
   "cell_type": "code",
   "execution_count": null,
   "metadata": {
    "id": "5K_TkD3k01IV"
   },
   "outputs": [],
   "source": [
    "final_output_pred = f'{PATH_PRED_FILES}all_v0_threshold_ab750000.tif'\n",
    "cmd_clip_raster = f\"gdalwarp -cutline {buffer_output} -crop_to_cutline -dstalpha {input_pred} {final_output_pred}\"\n",
    "subprocess.run(cmd_clip_raster, shell=True)\n",
    "print(final_output_pred)"
   ]
  },
  {
   "cell_type": "markdown",
   "metadata": {
    "id": "u8Dd1raSrgij"
   },
   "source": [
    "## **8. Recorte final por municipio**"
   ]
  },
  {
   "cell_type": "code",
   "execution_count": null,
   "metadata": {
    "id": "4WvYXvfShMTT"
   },
   "outputs": [],
   "source": [
    "for file in os.listdir(PATH_MUN_FILES):\n",
    "    mun = gpd.read_file(Path(f'{PATH_MUN_FILES}{file}'))\n",
    "    for i, row in mun.iterrows():\n",
    "        municipio = row['COD_MUNICIPIO']\n",
    "        dpto = row['DPTO_COD']\n",
    "        if row['COD_MUNICIPIO']== '23001':    #quitar para correr por todos los municipios\n",
    "            if row['DPTO_COD']== '23':        #quitar para correr por todos los departamentos\n",
    "                outpath_folder = f'{PATH_MUN_FILES}{dpto}/{municipio}/'\n",
    "                os.makedirs(outpath_folder, exist_ok=True)\n",
    "                outpath_municipio = f'{outpath_folder}{municipio}.geojson'\n",
    "                gpd.GeoDataFrame(geometry=list(row.geometry)).to_file(outpath_municipio)\n",
    "        \n",
    "                pred_raster_folder = f'{PATH_PRED_FILES}FINAL/{dpto}/{municipio}/'\n",
    "                os.makedirs(pred_raster_folder, exist_ok=True)\n",
    "\n",
    "                for file in os.listdir(outpath_folder):\n",
    "                    search_criteria_geojson = f'{outpath_folder}*.geojson'\n",
    "                    subset_files = glob.glob(search_criteria_geojson)\n",
    "            \n",
    "                    for fl in subset_files:\n",
    "                        outfile = f'{pred_raster_folder}{municipio}.tif'\n",
    "                        ds = gdal.Open(final_output_pred)  \n",
    "                        ds_recorte = gdal.Warp(outfile, ds, cutlineDSName = fl, cropToCutline = True, dstNodata = np.nan)\n",
    "                        ds_recorte = None"
   ]
  },
  {
   "cell_type": "code",
   "execution_count": null,
   "metadata": {
    "id": "-WCiONqVi8P_"
   },
   "outputs": [],
   "source": []
  }
 ],
 "metadata": {
  "colab": {
   "collapsed_sections": [],
   "name": "3_Postprocesamiento_FS.ipynb",
   "provenance": []
  },
  "kernelspec": {
   "display_name": "Python 3 (ipykernel)",
   "language": "python",
   "name": "python3"
  },
  "language_info": {
   "codemirror_mode": {
    "name": "ipython",
    "version": 3
   },
   "file_extension": ".py",
   "mimetype": "text/x-python",
   "name": "python",
   "nbconvert_exporter": "python",
   "pygments_lexer": "ipython3",
   "version": "3.7.12"
  },
  "toc": {
   "base_numbering": 1,
   "nav_menu": {},
   "number_sections": true,
   "sideBar": true,
   "skip_h1_title": false,
   "title_cell": "Table of Contents",
   "title_sidebar": "Contents",
   "toc_cell": false,
   "toc_position": {},
   "toc_section_display": true,
   "toc_window_display": false
  }
 },
 "nbformat": 4,
 "nbformat_minor": 1
}
