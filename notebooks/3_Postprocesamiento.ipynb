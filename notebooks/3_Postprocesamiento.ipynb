{
 "cells": [
  {
   "cell_type": "markdown",
   "id": "97e15bbf",
   "metadata": {
    "collapsed": true,
    "jupyter": {
     "outputs_hidden": true
    },
    "tags": []
   },
   "source": [
    "## Post-procesamiento de la imagen de prediccion de modelo de inundaciones\n",
    "\n",
    "En este notebook se presentan los pasos seguidos para el post-procesamiento de los resultados predichos del modelo de area suscpetibles a inundacion. Estos pasos incluyen:\n",
    "\n",
    "1. Filtro por umbral de probabilidad;\n",
    "\n",
    "2. Poligonizacion y filtro por area;\n",
    "\n",
    "3. Extraccion de resultados en base a raster original; \n",
    "\n",
    "4. Extraccion de resultados por municipio."
   ]
  },
  {
   "cell_type": "markdown",
   "id": "3c087d93",
   "metadata": {},
   "source": [
    "## 1. Importacion de librerias y definicion de variables"
   ]
  },
  {
   "cell_type": "code",
   "execution_count": null,
   "id": "de624f4c",
   "metadata": {},
   "outputs": [],
   "source": [
    "#!pip install geopandas"
   ]
  },
  {
   "cell_type": "code",
   "execution_count": null,
   "id": "c7b3eb8a-f5d2-481a-8d2b-ffe3352e215c",
   "metadata": {},
   "outputs": [],
   "source": [
    "from satproc.postprocess.polygonize import polygonize \n",
    "from satproc.filter import filter_by_max_prob\n",
    "import subprocess\n",
    "import os\n",
    "import geopandas as gpd"
   ]
  },
  {
   "cell_type": "code",
   "execution_count": null,
   "id": "fe29ea84-aed4-448c-814b-e5ad5abe6bdd",
   "metadata": {},
   "outputs": [],
   "source": [
    "#bucket con el archivo raster del resultado de la prediccion sin post-procesamiento\n",
    "BUCKET_PRED = \"gs://dym-indunor-temp/immap/v3_1/floods_annotations/results/pred_500/*.tif\"\n",
    "\n",
    "#bcuket con archivo vectorial de municipios para recorte final del resultado de prediccion\n",
    "BUCKET_MUN = \"gs://dym-indunor-temp/immap/v3_1/data/munis_v3.gpkg\"\n",
    "\n",
    "#creamos la carpeta a donde descargaremos la prediccion \n",
    "BASE_PATH = \"../\"\n",
    "PATH_PRED_FILES = f\"{BASE_PATH}/flood_pred/\"\n",
    "PATH_MUN_FILES = f\"{BASE_PATH}/MUN_files/\""
   ]
  },
  {
   "cell_type": "markdown",
   "id": "63c5dfe9",
   "metadata": {},
   "source": [
    "## 1.3. Descarga de archivos desde bucket"
   ]
  },
  {
   "cell_type": "code",
   "execution_count": null,
   "id": "66939d0c",
   "metadata": {},
   "outputs": [],
   "source": [
    "#RASTER PREDICCION\n",
    "!mkdir -p $PATH_PRED_FILES   #crea la carpeta\n",
    "!gsutil -m cp -r $BUCKET_PRED   $PATH_PRED_FILES # descarga de imagenes\n",
    "\n",
    "#MUNICIPIOS\n",
    "!mkdir -p $PATH_MUN_FILES   #crea la carpeta\n",
    "!gsutil -m cp -r $BUCKET_MUN   $PATH_MUN_FILES # descarga de archivos"
   ]
  },
  {
   "cell_type": "markdown",
   "id": "518b6cd7-6e41-47f3-8806-6980b762677b",
   "metadata": {},
   "source": [
    "## 1.4. Filtro por umbral de probabilidad"
   ]
  },
  {
   "cell_type": "code",
   "execution_count": null,
   "id": "6de3f431-0fb6-4ce3-9531-97fe8362fbf8",
   "metadata": {
    "jupyter": {
     "outputs_hidden": true
    },
    "tags": []
   },
   "outputs": [],
   "source": [
    "#definimos el umbral a la probabilidad\n",
    "THR = 0.2\n",
    "str_thr=str(int(THR*10))\n",
    "thr1=str(int(THR*255))\n",
    "\n",
    "input_pred = f'{PATH_PRED_FILES}all_v0.tif'\n",
    "output_pred_threshold = f'{PATH_PRED_FILES}all_v0_threshold.tif'\n",
    "exp = \"((A >\"+thr1+\")*199)+1\"\n",
    "cmd_calc = f'gdal_calc.py -A {input_pred} --A_band=1 --outfile {output_pred_threshold} --calc=\"{exp}\" --NoDataValue=0'\n",
    "subprocess.run(cmd_calc, shell=True)\n",
    "print(cmd_calc)\n",
    "print(\"--\",output_tif_path)\n",
    "print(\"<<<<<<<<<<<<<<<<<<<<<<<<<<<<<<<<<<<<<<<<<<<<<<<<<<\") "
   ]
  },
  {
   "cell_type": "markdown",
   "id": "7e659642-8535-4cc0-ac7e-ee9e713851e3",
   "metadata": {},
   "source": [
    "## 1.5. Poligonizado de las areas con pb mayor al umbral"
   ]
  },
  {
   "cell_type": "code",
   "execution_count": null,
   "id": "ec694186-dca3-4a6e-8f6a-97046f12f068",
   "metadata": {},
   "outputs": [],
   "source": [
    "output_shp_path = f'{PATH_PRED_FILES}all_v0_threshold_poligonized.gpkg'\n",
    "cmd_polygonize = f'gdal_polygonize.py {output_pred_threshold} {output_shp_path}'\n",
    "subprocess.run(cmd_polygonize, shell=True)"
   ]
  },
  {
   "cell_type": "markdown",
   "id": "d01abb77-285a-4aeb-b97b-c1e6f3730eac",
   "metadata": {},
   "source": [
    "## 1.6. Filtro por area minima"
   ]
  },
  {
   "cell_type": "code",
   "execution_count": null,
   "id": "6bfebb7f",
   "metadata": {},
   "outputs": [],
   "source": [
    "#reproyeccion a UTM, A fin de poder estimar las areas de los poligonos y filtrar poligonos chicos (a fin de eliminar falsos positivos)\n",
    "output_shp_path_pr = f'{output_shp_path[0:-5]}_epsg32618.gpkg'\n",
    "!ogr2ogr -s_srs EPSG:4326 -t_srs EPSG:32618 -f 'GPKG' $output_shp_path_pr $output_shp_path\n",
    "print('<<<<<<<<<<<<',dst_file)"
   ]
  },
  {
   "cell_type": "code",
   "execution_count": null,
   "id": "4b26b14f-94e8-4f24-80ab-9477c38edd9d",
   "metadata": {},
   "outputs": [],
   "source": [
    "min_area=750000 \n",
    "\n",
    "output_area_min =  f'{PATH_PRED_FILES}all_v0_threshold_poligonized_epsg32618_minarea.gpkg\n",
    "\n",
    "!ogr2ogr \\\n",
    "    -t_srs EPSG:32618 \\\n",
    "    -f \"GPKG\" \\\n",
    "    -sql \"SELECT * FROM out m WHERE (ST_Area(geom) > $min_area2)\" \\\n",
    "    -dialect SQLITE \\\n",
    "    -nln results \\\n",
    "    $output_area_min \\\n",
    "    $output_shp_path_pr\n",
    "print(\">>>>>>>>\",output_path)"
   ]
  },
  {
   "cell_type": "markdown",
   "id": "1b3aa983-781b-4d07-ad2d-6b826756f3e9",
   "metadata": {},
   "source": [
    "## 1.7. Recorte del raster de prediccion original por los poligonos mayores al area minima"
   ]
  },
  {
   "cell_type": "code",
   "execution_count": null,
   "id": "b384ecb0-8259-455d-8a1f-52e1fecd40a4",
   "metadata": {},
   "outputs": [],
   "source": [
    "final_output_pred = f'{PATH_PRED_FILES}all_v0_threshold_ab750000.tif'\n",
    "cmd_clip_raster = f\"gdalwarp -cutline {output_area_min} -crop_to_cutline -dstalpha {input_pred} {final_output_pred}\"\n",
    "subprocess.run(cmd_clip_raster, shell=True)\n",
    "print(minarea_raster)"
   ]
  },
  {
   "cell_type": "markdown",
   "id": "ce2c3b13-e9fb-4b15-b552-4aab70ff21ea",
   "metadata": {},
   "source": [
    "## 1.8. Recorte final por municipio "
   ]
  },
  {
   "cell_type": "code",
   "execution_count": null,
   "id": "64585234-4819-4c34-83f5-bc964f89dea4",
   "metadata": {
    "scrolled": true,
    "tags": []
   },
   "outputs": [],
   "source": [
    "#import geopandas as gpd\n",
    "for file in os.listdir(PATH_MUN_FILES):\n",
    "    mun = gpd.read_file(Path(f'{PATH_MUN_FILES}{file}'))\n",
    "    for i, row in mun.iterrows():\n",
    "        municipio = row['COD_MUNICIPIO']\n",
    "        dpto = row['DPTO_COD']\n",
    "        outpath_folder = f'{PATH_MUN_FILES}{dpto}/{municipio}/'\n",
    "        os.makedirs(outpath_folder, exist_ok=True)\n",
    "        outpath_municipio = f'{outpath_folder}{municipio}.geojson'\n",
    "        gpd.GeoDataFrame(geometry=list(row.geometry)).to_file(outpath_municipio)\n",
    "        \n",
    "        pred_raster_folder = f'{PATH_PRED_FILES}FINAL/{dpto}/{municipio}/'\n",
    "        os.makedirs(mask_folder, exist_ok=True)\n",
    "\n",
    "        for file in os.listdir(outpath_folder):\n",
    "            search_criteria_geojson = f'{outpath_folder}*.geojson'\n",
    "            subset_files = glob.glob(search_criteria_geojson)\n",
    "            \n",
    "            for fl in subset_files:\n",
    "                outfile = f'{pred_raster_folder}{municipio}.tif'\n",
    "                ds = gdal.Open(final_output_pred)\n",
    "                ds_recorte = gdal.Warp(outfile, ds, cutlineDSName = fl, cropToCutline = True, dstNodata = np.nan)\n",
    "                ds_recorte = None"
   ]
  },
  {
   "cell_type": "code",
   "execution_count": null,
   "id": "16a66fd6-b30e-4376-b87e-84fe2161ed7d",
   "metadata": {},
   "outputs": [],
   "source": []
  }
 ],
 "metadata": {
  "kernelspec": {
   "display_name": "Python 3 (ipykernel)",
   "language": "python",
   "name": "python3"
  },
  "language_info": {
   "codemirror_mode": {
    "name": "ipython",
    "version": 3
   },
   "file_extension": ".py",
   "mimetype": "text/x-python",
   "name": "python",
   "nbconvert_exporter": "python",
   "pygments_lexer": "ipython3",
   "version": "3.7.12"
  }
 },
 "nbformat": 4,
 "nbformat_minor": 5
}
