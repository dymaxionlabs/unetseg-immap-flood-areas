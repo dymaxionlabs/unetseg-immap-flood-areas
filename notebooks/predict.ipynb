{
 "cells": [
  {
   "cell_type": "markdown",
   "id": "93c99808",
   "metadata": {},
   "source": [
    "This is a prepared notebook intended to be used within **Dymaxion Labs Platform** that uses pre-trained weights to predict and then post-process its results."
   ]
  },
  {
   "cell_type": "markdown",
   "id": "4e3975c9",
   "metadata": {},
   "source": [
    "## Preparation"
   ]
  },
  {
   "cell_type": "code",
   "execution_count": 1,
   "id": "c7d738eb",
   "metadata": {
    "tags": [
     "parameters"
    ]
   },
   "outputs": [],
   "source": [
    "# Task\n",
    "INPUT_ARTIFACTS_URL = \"gs://dym-temp/immap-flood-areas/test-task/input\"\n",
    "OUTPUT_ARTIFACTS_URL = \"gs://dym-temp/immap-flood-areas/test-task/output\"\n",
    "\n",
    "WEIGHTS_URL = (\n",
    "    \"gs://dym-ml-models/dymaxionlabs/immap-flood-areas/v0.1.0/weights.h5\"\n",
    ")\n",
    "\n",
    "# Extract chips\n",
    "SIZE = 160\n",
    "STEP_SIZE = SIZE\n",
    "\n",
    "# Post-process\n",
    "MIN_AREA = 750000\n",
    "THRESHOLD = 0.2"
   ]
  },
  {
   "cell_type": "code",
   "execution_count": 2,
   "id": "994f95e3",
   "metadata": {},
   "outputs": [],
   "source": [
    "import os\n",
    "\n",
    "from labfunctions.shortcuts import settings"
   ]
  },
  {
   "cell_type": "code",
   "execution_count": 3,
   "id": "c6bbce61",
   "metadata": {},
   "outputs": [],
   "source": [
    "# Predict\n",
    "WEIGHTS_PATH = os.path.join(settings.BASE_PATH, \"data\", \"weights.h5\")\n",
    "IMAGES_DIR = os.path.join(settings.BASE_PATH, \"data/images\")\n",
    "PREDICT_CHIPS_DIR = os.path.join(settings.BASE_PATH, \"data/chips\")\n",
    "PREDICT_RESULTS_DIR = os.path.join(settings.BASE_PATH, \"data/predict\")\n",
    "PREDICT_RASTER_PATH = os.path.join(settings.BASE_PATH, \"data/predict/prob.tif\")\n",
    "\n",
    "# Post-process\n",
    "POST_BIN_RASTER_PATH = os.path.join(settings.BASE_PATH, \"data/post/bin.tif\")\n",
    "POST_BIN_VECTOR_PATH = os.path.join(settings.BASE_PATH, \"data/post/bin.gpkg\")\n",
    "POST_FILTERED_PATH = os.path.join(settings.BASE_PATH, \"data/post/filtered_bin.gpkg\")\n",
    "\n",
    "# Output\n",
    "OUTPUT_DIR = os.path.join(settings.BASE_PATH, \"data/results/\")\n",
    "OUTPUT_RASTER_PATH = os.path.join(settings.BASE_PATH, \"data/results/prob.tif\")\n",
    "OUTPUT_MASK_PATH = os.path.join(settings.BASE_PATH, \"data/results/prob.gpkg\")"
   ]
  },
  {
   "cell_type": "markdown",
   "id": "a75fb12e",
   "metadata": {},
   "source": [
    "### Configure Google Application credentials"
   ]
  },
  {
   "cell_type": "code",
   "execution_count": 4,
   "id": "e22ff992",
   "metadata": {},
   "outputs": [],
   "source": [
    "import json\n",
    "import base64\n",
    "\n",
    "from labfunctions.shortcuts import secrets"
   ]
  },
  {
   "cell_type": "code",
   "execution_count": 5,
   "id": "d3687c20",
   "metadata": {},
   "outputs": [],
   "source": [
    "GOOGLE_APPLICATION_CREDENTIALS_PATH = os.path.join(settings.BASE_PATH, \".google_aplication_credentials.json\")\n",
    "\n",
    "with open(GOOGLE_APPLICATION_CREDENTIALS_PATH, \"w\") as f:\n",
    "    f.write(base64.b64decode(secrets[\"GOOGLE_APPLICATION_CREDENTIALS\"]).decode())"
   ]
  },
  {
   "cell_type": "code",
   "execution_count": 6,
   "id": "c7c992dd",
   "metadata": {},
   "outputs": [],
   "source": [
    "!gcloud auth activate-service-account --key-file=$GOOGLE_APPLICATION_CREDENTIALS_PATH"
   ]
  },
  {
   "cell_type": "markdown",
   "id": "8b1b9147",
   "metadata": {},
   "source": [
    "### Download pre-trained weights"
   ]
  },
  {
   "cell_type": "code",
   "execution_count": 7,
   "id": "9a6c15a5",
   "metadata": {},
   "outputs": [],
   "source": [
    "os.makedirs(os.path.dirname(WEIGHTS_PATH), exist_ok=True)"
   ]
  },
  {
   "cell_type": "code",
   "execution_count": 8,
   "id": "39a7dbcc",
   "metadata": {},
   "outputs": [
    {
     "name": "stdout",
     "output_type": "stream",
     "text": [
      "Skipping existing item: file:///home/munshkr/dym/immap-flood-areas/data/weights.h5\r\n"
     ]
    }
   ],
   "source": [
    "!gsutil cp -n $WEIGHTS_URL $WEIGHTS_PATH"
   ]
  },
  {
   "cell_type": "markdown",
   "id": "c37c4d82",
   "metadata": {},
   "source": [
    "### Download input images"
   ]
  },
  {
   "cell_type": "code",
   "execution_count": 9,
   "id": "fc8553c8",
   "metadata": {},
   "outputs": [],
   "source": [
    "os.makedirs(IMAGES_DIR, exist_ok=True)"
   ]
  },
  {
   "cell_type": "code",
   "execution_count": 10,
   "id": "dc0dbecc",
   "metadata": {},
   "outputs": [
    {
     "name": "stdout",
     "output_type": "stream",
     "text": [
      "Copying gs://dym-temp/immap-flood-areas/test-task/input/dataset_prediction_500m_epsg4326.tif...\n",
      "/ [1/1 files][ 61.0 MiB/ 61.0 MiB] 100% Done                                    \n",
      "Operation completed over 1 objects/61.0 MiB.                                     \n"
     ]
    }
   ],
   "source": [
    "!gsutil -m cp -r $INPUT_ARTIFACTS_URL/* $IMAGES_DIR"
   ]
  },
  {
   "cell_type": "markdown",
   "id": "c9f497ea",
   "metadata": {},
   "source": [
    "## Prepare prediction dataset"
   ]
  },
  {
   "cell_type": "code",
   "execution_count": 11,
   "id": "28187341",
   "metadata": {},
   "outputs": [
    {
     "name": "stdout",
     "output_type": "stream",
     "text": [
      "Rasters:   0%|                                            | 0/1 [00:00<?, ?it/s]\n",
      "dataset_prediction_500m_epsg4326.tif windows:   0%|     | 0/216 [00:00<?, ?it/s]\u001b[A\n",
      "dataset_prediction_500m_epsg4326.tif windows:   7%| | 15/216 [00:00<00:01, 143.1\u001b[A\n",
      "dataset_prediction_500m_epsg4326.tif windows:  16%|1| 34/216 [00:00<00:01, 161.6\u001b[A\n",
      "dataset_prediction_500m_epsg4326.tif windows:  24%|2| 52/216 [00:00<00:00, 169.2\u001b[A\n",
      "dataset_prediction_500m_epsg4326.tif windows:  32%|3| 69/216 [00:00<00:00, 167.6\u001b[A\n",
      "dataset_prediction_500m_epsg4326.tif windows:  40%|4| 87/216 [00:00<00:00, 169.6\u001b[A\n",
      "dataset_prediction_500m_epsg4326.tif windows:  48%|4| 104/216 [00:00<00:00, 169.\u001b[A\n",
      "dataset_prediction_500m_epsg4326.tif windows:  56%|5| 122/216 [00:00<00:00, 168.\u001b[A\n",
      "dataset_prediction_500m_epsg4326.tif windows:  64%|6| 139/216 [00:00<00:00, 167.\u001b[A\n",
      "dataset_prediction_500m_epsg4326.tif windows:  72%|7| 156/216 [00:00<00:00, 164.\u001b[A\n",
      "dataset_prediction_500m_epsg4326.tif windows:  81%|8| 174/216 [00:01<00:00, 167.\u001b[A\n",
      "dataset_prediction_500m_epsg4326.tif windows:  89%|8| 192/216 [00:01<00:00, 169.\u001b[A\n",
      "dataset_prediction_500m_epsg4326.tif windows: 100%|#| 216/216 [00:01<00:00, 168.\u001b[A\n",
      "Rasters: 100%|####################################| 1/1 [00:01<00:00,  1.29s/it]\n"
     ]
    }
   ],
   "source": [
    "!satproc_extract_chips $IMAGES_DIR/*.tif \\\n",
    "    -o $PREDICT_CHIPS_DIR \\\n",
    "    --size $SIZE \\\n",
    "    --step-size $STEP_SIZE \\\n",
    "    --rescale \\\n",
    "    --rescale-mode percentiles --lower-cut 0 --upper-cut 100"
   ]
  },
  {
   "cell_type": "markdown",
   "id": "763a4a90",
   "metadata": {},
   "source": [
    "## Predict"
   ]
  },
  {
   "cell_type": "code",
   "execution_count": 12,
   "id": "48b72556",
   "metadata": {},
   "outputs": [
    {
     "name": "stderr",
     "output_type": "stream",
     "text": [
      "2022-08-03 17:03:48.380756: W tensorflow/stream_executor/platform/default/dso_loader.cc:64] Could not load dynamic library 'libcudart.so.11.0'; dlerror: libcudart.so.11.0: cannot open shared object file: No such file or directory; LD_LIBRARY_PATH: /home/munshkr/.local/lib/python3.10/site-packages/cv2/../../lib64:\n",
      "2022-08-03 17:03:48.380792: I tensorflow/stream_executor/cuda/cudart_stub.cc:29] Ignore above cudart dlerror if you do not have a GPU set up on your machine.\n"
     ]
    }
   ],
   "source": [
    "from unetseg.predict import PredictConfig, predict\n",
    "from unetseg.evaluate import plot_data_results\n",
    "import subprocess\n",
    "import glob"
   ]
  },
  {
   "cell_type": "code",
   "execution_count": 13,
   "id": "b09e656b",
   "metadata": {},
   "outputs": [],
   "source": [
    "cfg = PredictConfig(\n",
    "    images_path=PREDICT_CHIPS_DIR,\n",
    "    results_path=PREDICT_RESULTS_DIR,\n",
    "    batch_size=4,\n",
    "    model_path=WEIGHTS_PATH,\n",
    "    height=160,\n",
    "    width=160,\n",
    "    n_channels=6,\n",
    "    n_classes=1,\n",
    "    class_weights=[1],\n",
    ")"
   ]
  },
  {
   "cell_type": "code",
   "execution_count": 14,
   "id": "2893e163",
   "metadata": {},
   "outputs": [
    {
     "name": "stdout",
     "output_type": "stream",
     "text": [
      "Total images to predict (/home/munshkr/dym/immap-flood-areas/data/chips/images/*.tif): 216\n",
      "After skipping existing results: 216\n"
     ]
    },
    {
     "name": "stderr",
     "output_type": "stream",
     "text": [
      "2022-08-03 17:03:52.628290: E tensorflow/stream_executor/cuda/cuda_driver.cc:271] failed call to cuInit: CUDA_ERROR_NO_DEVICE: no CUDA-capable device is detected\n",
      "2022-08-03 17:03:52.628326: I tensorflow/stream_executor/cuda/cuda_diagnostics.cc:156] kernel driver does not appear to be running on this host (munshkr-x260): /proc/driver/nvidia/version does not exist\n",
      "2022-08-03 17:03:52.628972: I tensorflow/core/platform/cpu_feature_guard.cc:193] This TensorFlow binary is optimized with oneAPI Deep Neural Network Library (oneDNN) to use the following CPU instructions in performance-critical operations:  AVX2 FMA\n",
      "To enable them in other operations, rebuild TensorFlow with the appropriate compiler flags.\n",
      "2022-08-03 17:03:52.906050: W tensorflow/core/framework/cpu_allocator_impl.cc:82] Allocation of 37748736 exceeds 10% of free system memory.\n",
      "2022-08-03 17:03:52.938150: W tensorflow/core/framework/cpu_allocator_impl.cc:82] Allocation of 37748736 exceeds 10% of free system memory.\n",
      "2022-08-03 17:03:52.946094: W tensorflow/core/framework/cpu_allocator_impl.cc:82] Allocation of 37748736 exceeds 10% of free system memory.\n",
      "2022-08-03 17:03:53.613498: W tensorflow/core/framework/cpu_allocator_impl.cc:82] Allocation of 37748736 exceeds 10% of free system memory.\n",
      "  0%|                                                                                                                                                                          | 0/54 [00:00<?, ?it/s]"
     ]
    },
    {
     "name": "stdout",
     "output_type": "stream",
     "text": [
      "1/1 [==============================] - 1s 1s/step\n"
     ]
    },
    {
     "name": "stderr",
     "output_type": "stream",
     "text": [
      "\r",
      "  2%|███                                                                                                                                                               | 1/54 [00:01<01:08,  1.28s/it]"
     ]
    },
    {
     "name": "stdout",
     "output_type": "stream",
     "text": [
      "1/1 [==============================] - 0s 427ms/step\n"
     ]
    },
    {
     "name": "stderr",
     "output_type": "stream",
     "text": [
      "\r",
      "  4%|██████                                                                                                                                                            | 2/54 [00:01<00:44,  1.17it/s]"
     ]
    },
    {
     "name": "stdout",
     "output_type": "stream",
     "text": [
      "1/1 [==============================] - 0s 420ms/step\n"
     ]
    },
    {
     "name": "stderr",
     "output_type": "stream",
     "text": [
      "\r",
      "  6%|█████████                                                                                                                                                         | 3/54 [00:02<00:36,  1.40it/s]"
     ]
    },
    {
     "name": "stdout",
     "output_type": "stream",
     "text": [
      "1/1 [==============================] - 0s 436ms/step\n"
     ]
    },
    {
     "name": "stderr",
     "output_type": "stream",
     "text": [
      "\r",
      "  7%|████████████                                                                                                                                                      | 4/54 [00:02<00:32,  1.52it/s]"
     ]
    },
    {
     "name": "stdout",
     "output_type": "stream",
     "text": [
      "1/1 [==============================] - 0s 437ms/step\n"
     ]
    },
    {
     "name": "stderr",
     "output_type": "stream",
     "text": [
      "\r",
      "  9%|███████████████                                                                                                                                                   | 5/54 [00:03<00:30,  1.60it/s]"
     ]
    },
    {
     "name": "stdout",
     "output_type": "stream",
     "text": [
      "1/1 [==============================] - 0s 429ms/step\n"
     ]
    },
    {
     "name": "stderr",
     "output_type": "stream",
     "text": [
      "\r",
      " 11%|██████████████████                                                                                                                                                | 6/54 [00:04<00:29,  1.65it/s]"
     ]
    },
    {
     "name": "stdout",
     "output_type": "stream",
     "text": [
      "1/1 [==============================] - 0s 436ms/step\n"
     ]
    },
    {
     "name": "stderr",
     "output_type": "stream",
     "text": [
      "\r",
      " 13%|█████████████████████                                                                                                                                             | 7/54 [00:04<00:27,  1.69it/s]"
     ]
    },
    {
     "name": "stdout",
     "output_type": "stream",
     "text": [
      "1/1 [==============================] - 0s 486ms/step\n"
     ]
    },
    {
     "name": "stderr",
     "output_type": "stream",
     "text": [
      "\r",
      " 15%|████████████████████████                                                                                                                                          | 8/54 [00:05<00:27,  1.66it/s]"
     ]
    },
    {
     "name": "stdout",
     "output_type": "stream",
     "text": [
      "1/1 [==============================] - 0s 420ms/step\n"
     ]
    },
    {
     "name": "stderr",
     "output_type": "stream",
     "text": [
      "\r",
      " 17%|███████████████████████████                                                                                                                                       | 9/54 [00:05<00:26,  1.71it/s]"
     ]
    },
    {
     "name": "stdout",
     "output_type": "stream",
     "text": [
      "1/1 [==============================] - 0s 433ms/step\n"
     ]
    },
    {
     "name": "stderr",
     "output_type": "stream",
     "text": [
      "\r",
      " 19%|█████████████████████████████▊                                                                                                                                   | 10/54 [00:06<00:25,  1.73it/s]"
     ]
    },
    {
     "name": "stdout",
     "output_type": "stream",
     "text": [
      "1/1 [==============================] - 0s 420ms/step\n"
     ]
    },
    {
     "name": "stderr",
     "output_type": "stream",
     "text": [
      "\r",
      " 20%|████████████████████████████████▊                                                                                                                                | 11/54 [00:06<00:24,  1.76it/s]"
     ]
    },
    {
     "name": "stdout",
     "output_type": "stream",
     "text": [
      "1/1 [==============================] - 0s 418ms/step\n"
     ]
    },
    {
     "name": "stderr",
     "output_type": "stream",
     "text": [
      "\r",
      " 22%|███████████████████████████████████▊                                                                                                                             | 12/54 [00:07<00:23,  1.77it/s]"
     ]
    },
    {
     "name": "stdout",
     "output_type": "stream",
     "text": [
      "1/1 [==============================] - 0s 420ms/step\n"
     ]
    },
    {
     "name": "stderr",
     "output_type": "stream",
     "text": [
      "\r",
      " 24%|██████████████████████████████████████▊                                                                                                                          | 13/54 [00:08<00:22,  1.78it/s]"
     ]
    },
    {
     "name": "stdout",
     "output_type": "stream",
     "text": [
      "1/1 [==============================] - 0s 418ms/step\n"
     ]
    },
    {
     "name": "stderr",
     "output_type": "stream",
     "text": [
      "\r",
      " 26%|█████████████████████████████████████████▋                                                                                                                       | 14/54 [00:08<00:22,  1.79it/s]"
     ]
    },
    {
     "name": "stdout",
     "output_type": "stream",
     "text": [
      "1/1 [==============================] - 0s 425ms/step\n"
     ]
    },
    {
     "name": "stderr",
     "output_type": "stream",
     "text": [
      "\r",
      " 28%|████████████████████████████████████████████▋                                                                                                                    | 15/54 [00:09<00:21,  1.79it/s]"
     ]
    },
    {
     "name": "stdout",
     "output_type": "stream",
     "text": [
      "1/1 [==============================] - 0s 425ms/step\n"
     ]
    },
    {
     "name": "stderr",
     "output_type": "stream",
     "text": [
      "\r",
      " 30%|███████████████████████████████████████████████▋                                                                                                                 | 16/54 [00:09<00:21,  1.79it/s]"
     ]
    },
    {
     "name": "stdout",
     "output_type": "stream",
     "text": [
      "1/1 [==============================] - 0s 420ms/step\n"
     ]
    },
    {
     "name": "stderr",
     "output_type": "stream",
     "text": [
      "\r",
      " 31%|██████████████████████████████████████████████████▋                                                                                                              | 17/54 [00:10<00:20,  1.80it/s]"
     ]
    },
    {
     "name": "stdout",
     "output_type": "stream",
     "text": [
      "1/1 [==============================] - 0s 425ms/step\n"
     ]
    },
    {
     "name": "stderr",
     "output_type": "stream",
     "text": [
      "\r",
      " 33%|█████████████████████████████████████████████████████▋                                                                                                           | 18/54 [00:10<00:19,  1.80it/s]"
     ]
    },
    {
     "name": "stdout",
     "output_type": "stream",
     "text": [
      "1/1 [==============================] - 0s 418ms/step\n"
     ]
    },
    {
     "name": "stderr",
     "output_type": "stream",
     "text": [
      "\r",
      " 35%|████████████████████████████████████████████████████████▋                                                                                                        | 19/54 [00:11<00:19,  1.81it/s]"
     ]
    },
    {
     "name": "stdout",
     "output_type": "stream",
     "text": [
      "1/1 [==============================] - 0s 428ms/step\n"
     ]
    },
    {
     "name": "stderr",
     "output_type": "stream",
     "text": [
      "\r",
      " 37%|███████████████████████████████████████████████████████████▋                                                                                                     | 20/54 [00:11<00:18,  1.79it/s]"
     ]
    },
    {
     "name": "stdout",
     "output_type": "stream",
     "text": [
      "1/1 [==============================] - 0s 420ms/step\n"
     ]
    },
    {
     "name": "stderr",
     "output_type": "stream",
     "text": [
      "\r",
      " 39%|██████████████████████████████████████████████████████████████▌                                                                                                  | 21/54 [00:12<00:18,  1.79it/s]"
     ]
    },
    {
     "name": "stdout",
     "output_type": "stream",
     "text": [
      "1/1 [==============================] - 0s 419ms/step\n"
     ]
    },
    {
     "name": "stderr",
     "output_type": "stream",
     "text": [
      "\r",
      " 41%|█████████████████████████████████████████████████████████████████▌                                                                                               | 22/54 [00:13<00:17,  1.80it/s]"
     ]
    },
    {
     "name": "stdout",
     "output_type": "stream",
     "text": [
      "1/1 [==============================] - 0s 414ms/step\n"
     ]
    },
    {
     "name": "stderr",
     "output_type": "stream",
     "text": [
      "\r",
      " 43%|████████████████████████████████████████████████████████████████████▌                                                                                            | 23/54 [00:13<00:17,  1.82it/s]"
     ]
    },
    {
     "name": "stdout",
     "output_type": "stream",
     "text": [
      "1/1 [==============================] - 0s 453ms/step\n"
     ]
    },
    {
     "name": "stderr",
     "output_type": "stream",
     "text": [
      "\r",
      " 44%|███████████████████████████████████████████████████████████████████████▌                                                                                         | 24/54 [00:14<00:16,  1.79it/s]"
     ]
    },
    {
     "name": "stdout",
     "output_type": "stream",
     "text": [
      "1/1 [==============================] - 0s 424ms/step\n"
     ]
    },
    {
     "name": "stderr",
     "output_type": "stream",
     "text": [
      "\r",
      " 46%|██████████████████████████████████████████████████████████████████████████▌                                                                                      | 25/54 [00:14<00:16,  1.80it/s]"
     ]
    },
    {
     "name": "stdout",
     "output_type": "stream",
     "text": [
      "1/1 [==============================] - 0s 425ms/step\n"
     ]
    },
    {
     "name": "stderr",
     "output_type": "stream",
     "text": [
      "\r",
      " 48%|█████████████████████████████████████████████████████████████████████████████▌                                                                                   | 26/54 [00:15<00:15,  1.80it/s]"
     ]
    },
    {
     "name": "stdout",
     "output_type": "stream",
     "text": [
      "1/1 [==============================] - 0s 417ms/step\n"
     ]
    },
    {
     "name": "stderr",
     "output_type": "stream",
     "text": [
      "\r",
      " 50%|████████████████████████████████████████████████████████████████████████████████▌                                                                                | 27/54 [00:15<00:14,  1.82it/s]"
     ]
    },
    {
     "name": "stdout",
     "output_type": "stream",
     "text": [
      "1/1 [==============================] - 0s 417ms/step\n"
     ]
    },
    {
     "name": "stderr",
     "output_type": "stream",
     "text": [
      "\r",
      " 52%|███████████████████████████████████████████████████████████████████████████████████▍                                                                             | 28/54 [00:16<00:14,  1.83it/s]"
     ]
    },
    {
     "name": "stdout",
     "output_type": "stream",
     "text": [
      "1/1 [==============================] - 0s 419ms/step\n"
     ]
    },
    {
     "name": "stderr",
     "output_type": "stream",
     "text": [
      "\r",
      " 54%|██████████████████████████████████████████████████████████████████████████████████████▍                                                                          | 29/54 [00:16<00:13,  1.83it/s]"
     ]
    },
    {
     "name": "stdout",
     "output_type": "stream",
     "text": [
      "1/1 [==============================] - 0s 417ms/step\n"
     ]
    },
    {
     "name": "stderr",
     "output_type": "stream",
     "text": [
      "\r",
      " 56%|█████████████████████████████████████████████████████████████████████████████████████████▍                                                                       | 30/54 [00:17<00:13,  1.83it/s]"
     ]
    },
    {
     "name": "stdout",
     "output_type": "stream",
     "text": [
      "1/1 [==============================] - 0s 414ms/step\n"
     ]
    },
    {
     "name": "stderr",
     "output_type": "stream",
     "text": [
      "\r",
      " 57%|████████████████████████████████████████████████████████████████████████████████████████████▍                                                                    | 31/54 [00:17<00:12,  1.84it/s]"
     ]
    },
    {
     "name": "stdout",
     "output_type": "stream",
     "text": [
      "1/1 [==============================] - 0s 419ms/step\n"
     ]
    },
    {
     "name": "stderr",
     "output_type": "stream",
     "text": [
      "\r",
      " 59%|███████████████████████████████████████████████████████████████████████████████████████████████▍                                                                 | 32/54 [00:18<00:11,  1.83it/s]"
     ]
    },
    {
     "name": "stdout",
     "output_type": "stream",
     "text": [
      "1/1 [==============================] - 0s 427ms/step\n"
     ]
    },
    {
     "name": "stderr",
     "output_type": "stream",
     "text": [
      "\r",
      " 61%|██████████████████████████████████████████████████████████████████████████████████████████████████▍                                                              | 33/54 [00:19<00:11,  1.82it/s]"
     ]
    },
    {
     "name": "stdout",
     "output_type": "stream",
     "text": [
      "1/1 [==============================] - 0s 423ms/step\n"
     ]
    },
    {
     "name": "stderr",
     "output_type": "stream",
     "text": [
      "\r",
      " 63%|█████████████████████████████████████████████████████████████████████████████████████████████████████▎                                                           | 34/54 [00:19<00:11,  1.81it/s]"
     ]
    },
    {
     "name": "stdout",
     "output_type": "stream",
     "text": [
      "1/1 [==============================] - 0s 422ms/step\n"
     ]
    },
    {
     "name": "stderr",
     "output_type": "stream",
     "text": [
      "\r",
      " 65%|████████████████████████████████████████████████████████████████████████████████████████████████████████▎                                                        | 35/54 [00:20<00:10,  1.81it/s]"
     ]
    },
    {
     "name": "stdout",
     "output_type": "stream",
     "text": [
      "1/1 [==============================] - 1s 520ms/step\n"
     ]
    },
    {
     "name": "stderr",
     "output_type": "stream",
     "text": [
      "\r",
      " 67%|███████████████████████████████████████████████████████████████████████████████████████████████████████████▎                                                     | 36/54 [00:20<00:10,  1.71it/s]"
     ]
    },
    {
     "name": "stdout",
     "output_type": "stream",
     "text": [
      "1/1 [==============================] - 1s 561ms/step\n"
     ]
    },
    {
     "name": "stderr",
     "output_type": "stream",
     "text": [
      "\r",
      " 69%|██████████████████████████████████████████████████████████████████████████████████████████████████████████████▎                                                  | 37/54 [00:21<00:10,  1.60it/s]"
     ]
    },
    {
     "name": "stdout",
     "output_type": "stream",
     "text": [
      "1/1 [==============================] - 1s 749ms/step\n"
     ]
    },
    {
     "name": "stderr",
     "output_type": "stream",
     "text": [
      "\r",
      " 70%|█████████████████████████████████████████████████████████████████████████████████████████████████████████████████▎                                               | 38/54 [00:22<00:11,  1.41it/s]"
     ]
    },
    {
     "name": "stdout",
     "output_type": "stream",
     "text": [
      "1/1 [==============================] - 1s 580ms/step\n"
     ]
    },
    {
     "name": "stderr",
     "output_type": "stream",
     "text": [
      "\r",
      " 72%|████████████████████████████████████████████████████████████████████████████████████████████████████████████████████▎                                            | 39/54 [00:23<00:10,  1.38it/s]"
     ]
    },
    {
     "name": "stdout",
     "output_type": "stream",
     "text": [
      "1/1 [==============================] - 1s 602ms/step\n"
     ]
    },
    {
     "name": "stderr",
     "output_type": "stream",
     "text": [
      "\r",
      " 74%|███████████████████████████████████████████████████████████████████████████████████████████████████████████████████████▎                                         | 40/54 [00:23<00:10,  1.36it/s]"
     ]
    },
    {
     "name": "stdout",
     "output_type": "stream",
     "text": [
      "1/1 [==============================] - 0s 472ms/step\n"
     ]
    },
    {
     "name": "stderr",
     "output_type": "stream",
     "text": [
      "\r",
      " 76%|██████████████████████████████████████████████████████████████████████████████████████████████████████████████████████████▏                                      | 41/54 [00:24<00:09,  1.43it/s]"
     ]
    },
    {
     "name": "stdout",
     "output_type": "stream",
     "text": [
      "1/1 [==============================] - 1s 504ms/step\n"
     ]
    },
    {
     "name": "stderr",
     "output_type": "stream",
     "text": [
      "\r",
      " 78%|█████████████████████████████████████████████████████████████████████████████████████████████████████████████████████████████▏                                   | 42/54 [00:25<00:08,  1.47it/s]"
     ]
    },
    {
     "name": "stdout",
     "output_type": "stream",
     "text": [
      "1/1 [==============================] - 1s 514ms/step\n"
     ]
    },
    {
     "name": "stderr",
     "output_type": "stream",
     "text": [
      "\r",
      " 80%|████████████████████████████████████████████████████████████████████████████████████████████████████████████████████████████████▏                                | 43/54 [00:25<00:07,  1.47it/s]"
     ]
    },
    {
     "name": "stdout",
     "output_type": "stream",
     "text": [
      "1/1 [==============================] - 1s 575ms/step\n"
     ]
    },
    {
     "name": "stderr",
     "output_type": "stream",
     "text": [
      "\r",
      " 81%|███████████████████████████████████████████████████████████████████████████████████████████████████████████████████████████████████▏                             | 44/54 [00:26<00:06,  1.45it/s]"
     ]
    },
    {
     "name": "stdout",
     "output_type": "stream",
     "text": [
      "1/1 [==============================] - 0s 441ms/step\n"
     ]
    },
    {
     "name": "stderr",
     "output_type": "stream",
     "text": [
      "\r",
      " 83%|██████████████████████████████████████████████████████████████████████████████████████████████████████████████████████████████████████▏                          | 45/54 [00:27<00:05,  1.52it/s]"
     ]
    },
    {
     "name": "stdout",
     "output_type": "stream",
     "text": [
      "1/1 [==============================] - 0s 433ms/step\n"
     ]
    },
    {
     "name": "stderr",
     "output_type": "stream",
     "text": [
      "\r",
      " 85%|█████████████████████████████████████████████████████████████████████████████████████████████████████████████████████████████████████████▏                       | 46/54 [00:27<00:05,  1.59it/s]"
     ]
    },
    {
     "name": "stdout",
     "output_type": "stream",
     "text": [
      "1/1 [==============================] - 1s 561ms/step\n"
     ]
    },
    {
     "name": "stderr",
     "output_type": "stream",
     "text": [
      "\r",
      " 87%|████████████████████████████████████████████████████████████████████████████████████████████████████████████████████████████████████████████▏                    | 47/54 [00:28<00:04,  1.52it/s]"
     ]
    },
    {
     "name": "stdout",
     "output_type": "stream",
     "text": [
      "1/1 [==============================] - 1s 501ms/step\n"
     ]
    },
    {
     "name": "stderr",
     "output_type": "stream",
     "text": [
      "\r",
      " 89%|███████████████████████████████████████████████████████████████████████████████████████████████████████████████████████████████████████████████                  | 48/54 [00:29<00:03,  1.52it/s]"
     ]
    },
    {
     "name": "stdout",
     "output_type": "stream",
     "text": [
      "1/1 [==============================] - 1s 520ms/step\n"
     ]
    },
    {
     "name": "stderr",
     "output_type": "stream",
     "text": [
      "\r",
      " 91%|██████████████████████████████████████████████████████████████████████████████████████████████████████████████████████████████████████████████████               | 49/54 [00:29<00:03,  1.52it/s]"
     ]
    },
    {
     "name": "stdout",
     "output_type": "stream",
     "text": [
      "1/1 [==============================] - 0s 491ms/step\n"
     ]
    },
    {
     "name": "stderr",
     "output_type": "stream",
     "text": [
      "\r",
      " 93%|█████████████████████████████████████████████████████████████████████████████████████████████████████████████████████████████████████████████████████            | 50/54 [00:30<00:02,  1.54it/s]"
     ]
    },
    {
     "name": "stdout",
     "output_type": "stream",
     "text": [
      "1/1 [==============================] - 1s 650ms/step\n"
     ]
    },
    {
     "name": "stderr",
     "output_type": "stream",
     "text": [
      "\r",
      " 94%|████████████████████████████████████████████████████████████████████████████████████████████████████████████████████████████████████████████████████████         | 51/54 [00:31<00:02,  1.44it/s]"
     ]
    },
    {
     "name": "stdout",
     "output_type": "stream",
     "text": [
      "1/1 [==============================] - 0s 466ms/step\n"
     ]
    },
    {
     "name": "stderr",
     "output_type": "stream",
     "text": [
      "\r",
      " 96%|███████████████████████████████████████████████████████████████████████████████████████████████████████████████████████████████████████████████████████████      | 52/54 [00:31<00:01,  1.49it/s]"
     ]
    },
    {
     "name": "stdout",
     "output_type": "stream",
     "text": [
      "1/1 [==============================] - 0s 466ms/step\n"
     ]
    },
    {
     "name": "stderr",
     "output_type": "stream",
     "text": [
      "\r",
      " 98%|██████████████████████████████████████████████████████████████████████████████████████████████████████████████████████████████████████████████████████████████   | 53/54 [00:32<00:00,  1.54it/s]"
     ]
    },
    {
     "name": "stdout",
     "output_type": "stream",
     "text": [
      "1/1 [==============================] - 1s 665ms/step\n"
     ]
    },
    {
     "name": "stderr",
     "output_type": "stream",
     "text": [
      "100%|█████████████████████████████████████████████████████████████████████████████████████████████████████████████████████████████████████████████████████████████████| 54/54 [00:33<00:00,  1.62it/s]"
     ]
    },
    {
     "name": "stdout",
     "output_type": "stream",
     "text": [
      "Done!\n"
     ]
    },
    {
     "name": "stderr",
     "output_type": "stream",
     "text": [
      "\n"
     ]
    }
   ],
   "source": [
    "predict(cfg)"
   ]
  },
  {
   "cell_type": "code",
   "execution_count": 15,
   "id": "462821aa",
   "metadata": {},
   "outputs": [],
   "source": [
    "def build_prediction_raster(*, input_dir, output_path):\n",
    "    filenames = glob.glob(os.path.join(input_dir, \"*.tif\"))\n",
    "\n",
    "    vrt_path = \"/tmp/predict.vrt\"\n",
    "    tmp_list_path = \"/tmp/list.txt\"\n",
    "    with open(tmp_list_path, \"w\") as f:\n",
    "        for line in filenames:\n",
    "            f.write(f\"{line}\\n\")\n",
    "\n",
    "    # Build virtual raster of all chip tifs into a single VRT\n",
    "    subprocess.run(\n",
    "        f\"gdalbuildvrt -input_file_list {tmp_list_path} {vrt_path}\",\n",
    "        shell=True,\n",
    "        check=True,\n",
    "    )\n",
    "    \n",
    "    # Convert VRT to GeoTiff with DEFLATE compression enabled\n",
    "    os.makedirs(os.path.dirname(output_path), exist_ok=True)\n",
    "    subprocess.run(\n",
    "        f\"gdal_translate -of GTiff -co COMPRESS=DEFLATE -co PREDICTOR=2 -co ZLEVEL=9 {vrt_path} {output_path}\",\n",
    "        shell=True,\n",
    "        check=True,\n",
    "    )"
   ]
  },
  {
   "cell_type": "code",
   "execution_count": 16,
   "id": "bf0c92e1",
   "metadata": {},
   "outputs": [
    {
     "name": "stdout",
     "output_type": "stream",
     "text": [
      "0...10...20...30...40...50...60...70...80...90...100 - done.\n",
      "Input file size is 1915, 2785\n",
      "0...10...20...30...40...50...60...70...80...90...100 - done.\n"
     ]
    }
   ],
   "source": [
    "build_prediction_raster(\n",
    "    input_dir=PREDICT_RESULTS_DIR,\n",
    "    output_path=PREDICT_RASTER_PATH,\n",
    ")"
   ]
  },
  {
   "cell_type": "markdown",
   "id": "8a554152",
   "metadata": {},
   "source": [
    "## Post-process"
   ]
  },
  {
   "cell_type": "markdown",
   "id": "97338ab1",
   "metadata": {},
   "source": [
    "### Binarize image with threshold to create mask"
   ]
  },
  {
   "cell_type": "code",
   "execution_count": 17,
   "id": "ed5fbe63",
   "metadata": {},
   "outputs": [
    {
     "data": {
      "text/plain": [
       "CompletedProcess(args='gdal_calc.py --quiet --overwrite -A /home/munshkr/dym/immap-flood-areas/data/predict/prob.tif --A_band=1 --outfile /home/munshkr/dym/immap-flood-areas/data/post/bin.tif --calc=\"((A > 51)*199)\" --NoDataValue=0', returncode=0)"
      ]
     },
     "execution_count": 17,
     "metadata": {},
     "output_type": "execute_result"
    }
   ],
   "source": [
    "# expresion para seleccionar los pixeles mayores al umbral\n",
    "# se convierte el valor umbral al rango de valores del raster de prediccion (que va de 0 a 255)\n",
    "exp = f\"((A > {int(THRESHOLD * 255)})*199)\"\n",
    "\n",
    "os.makedirs(os.path.dirname(POST_BIN_RASTER_PATH), exist_ok=True)\n",
    "subprocess.run(\n",
    "    (\n",
    "        \"gdal_calc.py --quiet --overwrite \"\n",
    "        f\"-A {PREDICT_RASTER_PATH} \"\n",
    "        \"--A_band=1 \"\n",
    "        f\"--outfile {POST_BIN_RASTER_PATH} \"\n",
    "        f'--calc=\"{exp}\" '\n",
    "        \"--NoDataValue=0\"\n",
    "    ),\n",
    "    shell=True,\n",
    "    check=True,\n",
    ")"
   ]
  },
  {
   "cell_type": "markdown",
   "id": "72443348",
   "metadata": {},
   "source": [
    "### Poligonize binary mask"
   ]
  },
  {
   "cell_type": "code",
   "execution_count": 18,
   "id": "5e1e05a5",
   "metadata": {},
   "outputs": [
    {
     "name": "stdout",
     "output_type": "stream",
     "text": [
      "0...10...20...30...40...50...60...70...80...90...Creating output /home/munshkr/dym/immap-flood-areas/data/post/bin.gpkg of format GPKG.\n",
      "100 - done.\n"
     ]
    },
    {
     "data": {
      "text/plain": [
       "CompletedProcess(args='gdal_polygonize.py /home/munshkr/dym/immap-flood-areas/data/post/bin.tif /home/munshkr/dym/immap-flood-areas/data/post/bin.gpkg', returncode=0)"
      ]
     },
     "execution_count": 18,
     "metadata": {},
     "output_type": "execute_result"
    }
   ],
   "source": [
    "# funcion para poligonizar las areas seleccionadas con pb mayor al umbral\n",
    "os.makedirs(os.path.dirname(POST_BIN_VECTOR_PATH), exist_ok=True)\n",
    "if os.path.exists(POST_BIN_VECTOR_PATH):\n",
    "    os.unlink(POST_BIN_VECTOR_PATH)\n",
    "subprocess.run(f'gdal_polygonize.py {POST_BIN_RASTER_PATH} {POST_BIN_VECTOR_PATH}', shell=True, check=True)"
   ]
  },
  {
   "cell_type": "markdown",
   "id": "f3f1aab0",
   "metadata": {},
   "source": [
    "### Filter by min. area"
   ]
  },
  {
   "cell_type": "code",
   "execution_count": 19,
   "id": "81dfa669",
   "metadata": {},
   "outputs": [],
   "source": [
    "import math\n",
    "\n",
    "import fiona\n",
    "from satproc.utils import reproject_shape\n",
    "from shapely.geometry import shape\n",
    "from tqdm import tqdm\n",
    "\n",
    "\n",
    "def filter_by_min_area(src_file, dst_file, min_area=500, utm_code=None):\n",
    "    if not utm_code:\n",
    "        utm_code = get_epsg_utm_from(src_file)\n",
    "        print(f\"Using projected CRS {utm_code} for filtering by meters\")\n",
    "\n",
    "    with fiona.open(src_file) as src:\n",
    "        with fiona.open(\n",
    "            dst_file, \"w\", driver=\"GPKG\", crs=src.crs, schema=src.schema\n",
    "        ) as dst:\n",
    "            for feature in tqdm(\n",
    "                src, desc=f\"Filtering polygons by area (>={min_area}m)\", ascii=True\n",
    "            ):\n",
    "                geom = shape(feature[\"geometry\"])\n",
    "                repr_geom = reproject_shape(geom, src.crs, utm_code)\n",
    "                if repr_geom.area >= min_area:\n",
    "                    dst.write(feature)\n",
    "\n",
    "\n",
    "def get_epsg_utm_from(vector_path):\n",
    "    \"\"\"Calculate UTM zone from a vector file in WGS84 geographic coordinates\"\"\"\n",
    "    with fiona.open(vector_path) as src:\n",
    "        some_feat = next(iter(src), None)\n",
    "        if not some_feat:\n",
    "            raise ValueError(f\"{vector_path} has no features\")\n",
    "        some_geom = shape(some_feat[\"geometry\"])\n",
    "        if src.crs[\"init\"] != \"epsg:4326\":\n",
    "            some_geom = reproject_shape(some_geom, src.crs[\"init\"], \"epsg:4326\")\n",
    "        return get_epsg_utm_from_wgs_geom(some_geom)\n",
    "\n",
    "\n",
    "def get_epsg_utm_from_wgs_geom(geom):\n",
    "    \"\"\"\n",
    "    Calculate UTM zone from a geometry in WGS84 geographic coordinates and\n",
    "    get corresponding EPSG code.\n",
    "\n",
    "    \"\"\"\n",
    "    centroid = geom.centroid\n",
    "    lon, lat = centroid.x, centroid.y\n",
    "    utm_band = str((math.floor((lon + 180) / 6) % 60) + 1)\n",
    "    if len(utm_band) == 1:\n",
    "        utm_band = f\"{utm_band}\"\n",
    "    if lat >= 0:\n",
    "        epsg_code = f\"epsg:326{utm_band}\"\n",
    "    else:\n",
    "        epsg_code = f\"epsg:327{utm_band}\"\n",
    "    return epsg_code"
   ]
  },
  {
   "cell_type": "code",
   "execution_count": 20,
   "id": "f6b850b2",
   "metadata": {},
   "outputs": [
    {
     "name": "stdout",
     "output_type": "stream",
     "text": [
      "Using projected CRS epsg:32618 for filtering by meters\n"
     ]
    },
    {
     "name": "stderr",
     "output_type": "stream",
     "text": [
      "Filtering polygons by area (>=750000m):   0%|                                                                                                                                | 0/5085 [00:00<?, ?it/s]/usr/lib/python3/dist-packages/pyproj/crs/crs.py:131: FutureWarning: '+init=<authority>:<code>' syntax is deprecated. '<authority>:<code>' is the preferred initialization method. When making the change, be mindful of axis order changes: https://pyproj4.github.io/pyproj/stable/gotchas.html#axis-order-changes-in-proj-6\n",
      "  in_crs_string = _prepare_from_proj_string(in_crs_string)\n",
      "Filtering polygons by area (>=750000m): 100%|####################################################################################################################| 5085/5085 [00:37<00:00, 137.10it/s]\n"
     ]
    }
   ],
   "source": [
    "filter_by_min_area(POST_BIN_VECTOR_PATH, POST_FILTERED_PATH, min_area=MIN_AREA)"
   ]
  },
  {
   "cell_type": "markdown",
   "id": "203c59f5",
   "metadata": {},
   "source": [
    "### Clip raster with filtered vector mask"
   ]
  },
  {
   "cell_type": "code",
   "execution_count": 21,
   "id": "ad8e0e25",
   "metadata": {},
   "outputs": [
    {
     "name": "stdout",
     "output_type": "stream",
     "text": [
      "Creating output file that is 1756P x 2638L.\n",
      "Processing /home/munshkr/dym/immap-flood-areas/data/predict/prob.tif [1/1] : 0Using internal nodata values (e.g. 0) for image /home/munshkr/dym/immap-flood-areas/data/predict/prob.tif.\n",
      "...10...20...30...40...50...60...70...80...90...100 - done.\n"
     ]
    },
    {
     "data": {
      "text/plain": [
       "CompletedProcess(args='gdalwarp -overwrite -cutline /home/munshkr/dym/immap-flood-areas/data/post/filtered_bin.gpkg -crop_to_cutline -dstalpha /home/munshkr/dym/immap-flood-areas/data/predict/prob.tif /home/munshkr/dym/immap-flood-areas/data/results/prob.tif', returncode=0)"
      ]
     },
     "execution_count": 21,
     "metadata": {},
     "output_type": "execute_result"
    }
   ],
   "source": [
    "# -cutline indica el archivo vectorial que se utiliza para recortar al raster original (input_pred)\n",
    "os.makedirs(os.path.dirname(OUTPUT_RASTER_PATH), exist_ok=True)\n",
    "subprocess.run(\n",
    "    (\n",
    "        f\"gdalwarp -overwrite \"\n",
    "        f\"-cutline {POST_FILTERED_PATH} \"\n",
    "        \"-crop_to_cutline \"\n",
    "        f\"-dstalpha {PREDICT_RASTER_PATH} \"\n",
    "        f\"{OUTPUT_RASTER_PATH}\"\n",
    "    ),\n",
    "    shell=True,\n",
    "    check=True,\n",
    ")"
   ]
  },
  {
   "cell_type": "code",
   "execution_count": 22,
   "id": "32557396",
   "metadata": {},
   "outputs": [
    {
     "data": {
      "text/plain": [
       "'/home/munshkr/dym/immap-flood-areas/data/results/prob.gpkg'"
      ]
     },
     "execution_count": 22,
     "metadata": {},
     "output_type": "execute_result"
    }
   ],
   "source": [
    "import shutil\n",
    "\n",
    "shutil.copyfile(POST_FILTERED_PATH, OUTPUT_MASK_PATH)"
   ]
  },
  {
   "cell_type": "markdown",
   "id": "ec1e5cbd",
   "metadata": {},
   "source": [
    "## Export results as artifacts"
   ]
  },
  {
   "cell_type": "code",
   "execution_count": 23,
   "id": "93d48e0d",
   "metadata": {},
   "outputs": [
    {
     "name": "stdout",
     "output_type": "stream",
     "text": [
      "Copying file:///home/munshkr/dym/immap-flood-areas/data/results//prob.gpkg [Content-Type=application/geopackage+sqlite3]...\n",
      "Copying file:///home/munshkr/dym/immap-flood-areas/data/results//prob.tif [Content-Type=image/tiff]...\n",
      "/ [2/2 files][ 10.0 MiB/ 10.0 MiB] 100% Done                                    \n",
      "Operation completed over 2 objects/10.0 MiB.                                     \n"
     ]
    }
   ],
   "source": [
    "!gsutil -m cp -r $OUTPUT_DIR/* $OUTPUT_ARTIFACTS_URL/"
   ]
  }
 ],
 "metadata": {
  "kernelspec": {
   "display_name": "Python 3 (ipykernel)",
   "language": "python",
   "name": "python3"
  },
  "language_info": {
   "codemirror_mode": {
    "name": "ipython",
    "version": 3
   },
   "file_extension": ".py",
   "mimetype": "text/x-python",
   "name": "python",
   "nbconvert_exporter": "python",
   "pygments_lexer": "ipython3",
   "version": "3.10.4"
  }
 },
 "nbformat": 4,
 "nbformat_minor": 5
}
