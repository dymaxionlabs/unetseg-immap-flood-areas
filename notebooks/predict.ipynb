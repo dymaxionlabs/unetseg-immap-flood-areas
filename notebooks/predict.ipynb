{
 "cells": [
  {
   "cell_type": "markdown",
   "id": "93c99808",
   "metadata": {},
   "source": [
    "This is a prepared notebook intended to be used within **Dymaxion Labs Platform** that uses pre-trained weights to predict and then post-process its results."
   ]
  },
  {
   "cell_type": "markdown",
   "id": "4e3975c9",
   "metadata": {},
   "source": [
    "## Preparation"
   ]
  },
  {
   "cell_type": "code",
   "execution_count": null,
   "id": "c7d738eb",
   "metadata": {
    "tags": [
     "parameters"
    ]
   },
   "outputs": [],
   "source": [
    "# Task\n",
    "INPUT_ARTIFACTS_URL = \"gs://dym-temp/immap-flood-areas/test-task/input\"\n",
    "OUTPUT_ARTIFACTS_URL = \"gs://dym-temp/immap-flood-areas/test-task/output\"\n",
    "\n",
    "WEIGHTS_URL = (\n",
    "    \"gs://dym-ml-models/dymaxionlabs/immap-flood-areas/v0.1.0/weights.h5\"\n",
    ")\n",
    "\n",
    "# Extract chips\n",
    "SIZE = 160\n",
    "STEP_SIZE = SIZE\n",
    "\n",
    "# Post-process\n",
    "MIN_AREA = 750000\n",
    "THRESHOLD = 0.2"
   ]
  },
  {
   "cell_type": "code",
   "execution_count": null,
   "id": "994f95e3",
   "metadata": {},
   "outputs": [],
   "source": [
    "import os\n",
    "\n",
    "from labfunctions.shortcuts import settings"
   ]
  },
  {
   "cell_type": "code",
   "execution_count": null,
   "id": "c6bbce61",
   "metadata": {},
   "outputs": [],
   "source": [
    "# Predict\n",
    "WEIGHTS_PATH = os.path.join(settings.BASE_PATH, \"data\", \"weights.h5\")\n",
    "IMAGES_DIR = os.path.join(settings.BASE_PATH, \"data/images\")\n",
    "PREDICT_CHIPS_DIR = os.path.join(settings.BASE_PATH, \"data/chips\")\n",
    "PREDICT_RESULTS_DIR = os.path.join(settings.BASE_PATH, \"data/predict\")\n",
    "PREDICT_RASTER_PATH = os.path.join(settings.BASE_PATH, \"data/predict/prob.tif\")\n",
    "\n",
    "# Post-process\n",
    "POST_BIN_RASTER_PATH = os.path.join(settings.BASE_PATH, \"data/post/bin.tif\")\n",
    "POST_BIN_VECTOR_PATH = os.path.join(settings.BASE_PATH, \"data/post/bin.gpkg\")\n",
    "POST_FILTERED_PATH = os.path.join(settings.BASE_PATH, \"data/post/filtered_bin.gpkg\")\n",
    "\n",
    "# Output\n",
    "OUTPUT_DIR = os.path.join(settings.BASE_PATH, \"data/results/\")\n",
    "OUTPUT_RASTER_PATH = os.path.join(settings.BASE_PATH, \"data/results/prob.tif\")\n",
    "OUTPUT_MASK_PATH = os.path.join(settings.BASE_PATH, \"data/results/prob.gpkg\")"
   ]
  },
  {
   "cell_type": "markdown",
   "id": "a75fb12e",
   "metadata": {},
   "source": [
    "### Configure Google Application credentials"
   ]
  },
  {
   "cell_type": "code",
   "execution_count": null,
   "id": "e22ff992",
   "metadata": {},
   "outputs": [],
   "source": [
    "import json\n",
    "import base64\n",
    "\n",
    "from labfunctions.shortcuts import secrets"
   ]
  },
  {
   "cell_type": "code",
   "execution_count": null,
   "id": "d3687c20",
   "metadata": {},
   "outputs": [],
   "source": [
    "GOOGLE_APPLICATION_CREDENTIALS_PATH = os.path.join(settings.BASE_PATH, \".google_aplication_credentials.json\")\n",
    "\n",
    "with open(GOOGLE_APPLICATION_CREDENTIALS_PATH, \"w\") as f:\n",
    "    f.write(base64.b64decode(secrets[\"GOOGLE_APPLICATION_CREDENTIALS\"]).decode())"
   ]
  },
  {
   "cell_type": "code",
   "execution_count": null,
   "id": "c7c992dd",
   "metadata": {},
   "outputs": [],
   "source": [
    "!gcloud auth activate-service-account --key-file=$GOOGLE_APPLICATION_CREDENTIALS_PATH"
   ]
  },
  {
   "cell_type": "markdown",
   "id": "8b1b9147",
   "metadata": {},
   "source": [
    "### Download pre-trained weights"
   ]
  },
  {
   "cell_type": "code",
   "execution_count": null,
   "id": "9a6c15a5",
   "metadata": {},
   "outputs": [],
   "source": [
    "os.makedirs(os.path.dirname(WEIGHTS_PATH), exist_ok=True)"
   ]
  },
  {
   "cell_type": "code",
   "execution_count": null,
   "id": "39a7dbcc",
   "metadata": {},
   "outputs": [],
   "source": [
    "!gsutil cp -n $WEIGHTS_URL $WEIGHTS_PATH"
   ]
  },
  {
   "cell_type": "markdown",
   "id": "c37c4d82",
   "metadata": {},
   "source": [
    "### Download input images"
   ]
  },
  {
   "cell_type": "code",
   "execution_count": null,
   "id": "fc8553c8",
   "metadata": {},
   "outputs": [],
   "source": [
    "os.makedirs(IMAGES_DIR, exist_ok=True)"
   ]
  },
  {
   "cell_type": "code",
   "execution_count": null,
   "id": "dc0dbecc",
   "metadata": {},
   "outputs": [],
   "source": [
    "!gsutil -m cp -r $INPUT_ARTIFACTS_URL/* $IMAGES_DIR"
   ]
  },
  {
   "cell_type": "markdown",
   "id": "c9f497ea",
   "metadata": {},
   "source": [
    "## Prepare prediction dataset"
   ]
  },
  {
   "cell_type": "code",
   "execution_count": null,
   "id": "28187341",
   "metadata": {},
   "outputs": [],
   "source": [
    "!satproc_extract_chips $IMAGES_DIR/*.tif \\\n",
    "    -o $PREDICT_CHIPS_DIR \\\n",
    "    --size $SIZE \\\n",
    "    --step-size $STEP_SIZE \\\n",
    "    --rescale \\\n",
    "    --rescale-mode percentiles --lower-cut 0 --upper-cut 100"
   ]
  },
  {
   "cell_type": "markdown",
   "id": "763a4a90",
   "metadata": {},
   "source": [
    "## Predict"
   ]
  },
  {
   "cell_type": "code",
   "execution_count": null,
   "id": "48b72556",
   "metadata": {},
   "outputs": [],
   "source": [
    "from unetseg.predict import PredictConfig, predict\n",
    "from unetseg.evaluate import plot_data_results\n",
    "import subprocess\n",
    "import glob"
   ]
  },
  {
   "cell_type": "code",
   "execution_count": null,
   "id": "b09e656b",
   "metadata": {},
   "outputs": [],
   "source": [
    "cfg = PredictConfig(\n",
    "    images_path=PREDICT_CHIPS_DIR,\n",
    "    results_path=PREDICT_RESULTS_DIR,\n",
    "    batch_size=4,\n",
    "    model_path=WEIGHTS_PATH,\n",
    "    height=160,\n",
    "    width=160,\n",
    "    n_channels=6,\n",
    "    n_classes=1,\n",
    "    class_weights=[1],\n",
    ")"
   ]
  },
  {
   "cell_type": "code",
   "execution_count": null,
   "id": "2893e163",
   "metadata": {},
   "outputs": [],
   "source": [
    "predict(cfg)"
   ]
  },
  {
   "cell_type": "code",
   "execution_count": null,
   "id": "462821aa",
   "metadata": {},
   "outputs": [],
   "source": [
    "def build_prediction_raster(*, input_dir, output_path):\n",
    "    filenames = glob.glob(os.path.join(input_dir, \"*.tif\"))\n",
    "\n",
    "    vrt_path = \"/tmp/predict.vrt\"\n",
    "    tmp_list_path = \"/tmp/list.txt\"\n",
    "    with open(tmp_list_path, \"w\") as f:\n",
    "        for line in filenames:\n",
    "            f.write(f\"{line}\\n\")\n",
    "\n",
    "    # Build virtual raster of all chip tifs into a single VRT\n",
    "    subprocess.run(\n",
    "        f\"gdalbuildvrt -input_file_list {tmp_list_path} {vrt_path}\",\n",
    "        shell=True,\n",
    "        check=True,\n",
    "    )\n",
    "    \n",
    "    # Convert VRT to GeoTiff with DEFLATE compression enabled\n",
    "    os.makedirs(os.path.dirname(output_path), exist_ok=True)\n",
    "    subprocess.run(\n",
    "        f\"gdal_translate -of GTiff -co COMPRESS=DEFLATE -co PREDICTOR=2 -co ZLEVEL=9 {vrt_path} {output_path}\",\n",
    "        shell=True,\n",
    "        check=True,\n",
    "    )"
   ]
  },
  {
   "cell_type": "code",
   "execution_count": null,
   "id": "bf0c92e1",
   "metadata": {},
   "outputs": [],
   "source": [
    "build_prediction_raster(\n",
    "    input_dir=PREDICT_RESULTS_DIR,\n",
    "    output_path=PREDICT_RASTER_PATH,\n",
    ")"
   ]
  },
  {
   "cell_type": "markdown",
   "id": "8a554152",
   "metadata": {},
   "source": [
    "## Post-process"
   ]
  },
  {
   "cell_type": "markdown",
   "id": "97338ab1",
   "metadata": {},
   "source": [
    "### Binarize image with threshold to create mask"
   ]
  },
  {
   "cell_type": "code",
   "execution_count": null,
   "id": "ed5fbe63",
   "metadata": {},
   "outputs": [],
   "source": [
    "# expresion para seleccionar los pixeles mayores al umbral\n",
    "# se convierte el valor umbral al rango de valores del raster de prediccion (que va de 0 a 255)\n",
    "exp = f\"((A > {int(THRESHOLD * 255)})*199)\"\n",
    "\n",
    "os.makedirs(os.path.dirname(POST_BIN_RASTER_PATH), exist_ok=True)\n",
    "subprocess.run(\n",
    "    (\n",
    "        \"gdal_calc.py --quiet --overwrite \"\n",
    "        f\"-A {PREDICT_RASTER_PATH} \"\n",
    "        \"--A_band=1 \"\n",
    "        f\"--outfile {POST_BIN_RASTER_PATH} \"\n",
    "        f'--calc=\"{exp}\" '\n",
    "        \"--NoDataValue=0\"\n",
    "    ),\n",
    "    shell=True,\n",
    "    check=True,\n",
    ")"
   ]
  },
  {
   "cell_type": "markdown",
   "id": "72443348",
   "metadata": {},
   "source": [
    "### Poligonize binary mask"
   ]
  },
  {
   "cell_type": "code",
   "execution_count": null,
   "id": "5e1e05a5",
   "metadata": {},
   "outputs": [],
   "source": [
    "# funcion para poligonizar las areas seleccionadas con pb mayor al umbral\n",
    "os.makedirs(os.path.dirname(POST_BIN_VECTOR_PATH), exist_ok=True)\n",
    "if os.path.exists(POST_BIN_VECTOR_PATH):\n",
    "    os.unlink(POST_BIN_VECTOR_PATH)\n",
    "subprocess.run(f'gdal_polygonize.py {POST_BIN_RASTER_PATH} {POST_BIN_VECTOR_PATH}', shell=True, check=True)"
   ]
  },
  {
   "cell_type": "markdown",
   "id": "f3f1aab0",
   "metadata": {},
   "source": [
    "### Filter by min. area"
   ]
  },
  {
   "cell_type": "code",
   "execution_count": null,
   "id": "81dfa669",
   "metadata": {},
   "outputs": [],
   "source": [
    "import math\n",
    "\n",
    "import fiona\n",
    "from satproc.utils import reproject_shape\n",
    "from shapely.geometry import shape\n",
    "from tqdm import tqdm\n",
    "\n",
    "\n",
    "def filter_by_min_area(src_file, dst_file, min_area=500, utm_code=None):\n",
    "    if not utm_code:\n",
    "        utm_code = get_epsg_utm_from(src_file)\n",
    "        print(f\"Using projected CRS {utm_code} for filtering by meters\")\n",
    "\n",
    "    with fiona.open(src_file) as src:\n",
    "        with fiona.open(\n",
    "            dst_file, \"w\", driver=\"GPKG\", crs=src.crs, schema=src.schema\n",
    "        ) as dst:\n",
    "            for feature in tqdm(\n",
    "                src, desc=f\"Filtering polygons by area (>={min_area}m)\", ascii=True\n",
    "            ):\n",
    "                geom = shape(feature[\"geometry\"])\n",
    "                repr_geom = reproject_shape(geom, src.crs, utm_code)\n",
    "                if repr_geom.area >= min_area:\n",
    "                    dst.write(feature)\n",
    "\n",
    "\n",
    "def get_epsg_utm_from(vector_path):\n",
    "    \"\"\"Calculate UTM zone from a vector file in WGS84 geographic coordinates\"\"\"\n",
    "    with fiona.open(vector_path) as src:\n",
    "        some_feat = next(iter(src), None)\n",
    "        if not some_feat:\n",
    "            raise ValueError(f\"{vector_path} has no features\")\n",
    "        some_geom = shape(some_feat[\"geometry\"])\n",
    "        if src.crs[\"init\"] != \"epsg:4326\":\n",
    "            some_geom = reproject_shape(some_geom, src.crs[\"init\"], \"epsg:4326\")\n",
    "        return get_epsg_utm_from_wgs_geom(some_geom)\n",
    "\n",
    "\n",
    "def get_epsg_utm_from_wgs_geom(geom):\n",
    "    \"\"\"\n",
    "    Calculate UTM zone from a geometry in WGS84 geographic coordinates and\n",
    "    get corresponding EPSG code.\n",
    "\n",
    "    \"\"\"\n",
    "    centroid = geom.centroid\n",
    "    lon, lat = centroid.x, centroid.y\n",
    "    utm_band = str((math.floor((lon + 180) / 6) % 60) + 1)\n",
    "    if len(utm_band) == 1:\n",
    "        utm_band = f\"{utm_band}\"\n",
    "    if lat >= 0:\n",
    "        epsg_code = f\"epsg:326{utm_band}\"\n",
    "    else:\n",
    "        epsg_code = f\"epsg:327{utm_band}\"\n",
    "    return epsg_code"
   ]
  },
  {
   "cell_type": "code",
   "execution_count": null,
   "id": "f6b850b2",
   "metadata": {},
   "outputs": [],
   "source": [
    "filter_by_min_area(POST_BIN_VECTOR_PATH, POST_FILTERED_PATH, min_area=MIN_AREA)"
   ]
  },
  {
   "cell_type": "code",
   "execution_count": null,
   "id": "711f7e38",
   "metadata": {},
   "outputs": [],
   "source": [
    "import geopandas as gpd\n",
    "\n",
    "# Try to fix geometries if there are invalid\n",
    "gdf = gpd.read_file(POST_FILTERED_PATH)\n",
    "gdf.geometry = gdf.geometry.buffer(0)\n",
    "gdf.to_file(POST_FILTERED_PATH)"
   ]
  },
  {
   "cell_type": "markdown",
   "id": "203c59f5",
   "metadata": {},
   "source": [
    "### Clip raster with filtered vector mask"
   ]
  },
  {
   "cell_type": "code",
   "execution_count": null,
   "id": "ad8e0e25",
   "metadata": {},
   "outputs": [],
   "source": [
    "# -cutline indica el archivo vectorial que se utiliza para recortar al raster original (input_pred)\n",
    "os.makedirs(os.path.dirname(OUTPUT_RASTER_PATH), exist_ok=True)\n",
    "subprocess.run(\n",
    "    (\n",
    "        f\"gdalwarp -overwrite \"\n",
    "        f\"-cutline {POST_FILTERED_PATH} \"\n",
    "        \"-crop_to_cutline \"\n",
    "        f\"-dstalpha {PREDICT_RASTER_PATH} \"\n",
    "        f\"{OUTPUT_RASTER_PATH}\"\n",
    "    ),\n",
    "    shell=True,\n",
    "    check=True,\n",
    ")"
   ]
  },
  {
   "cell_type": "code",
   "execution_count": null,
   "id": "32557396",
   "metadata": {},
   "outputs": [],
   "source": [
    "import shutil\n",
    "\n",
    "shutil.copyfile(POST_FILTERED_PATH, OUTPUT_MASK_PATH)"
   ]
  },
  {
   "cell_type": "markdown",
   "id": "ec1e5cbd",
   "metadata": {},
   "source": [
    "## Export results as artifacts"
   ]
  },
  {
   "cell_type": "code",
   "execution_count": null,
   "id": "93d48e0d",
   "metadata": {},
   "outputs": [],
   "source": [
    "!gsutil -m cp -r $OUTPUT_DIR/* $OUTPUT_ARTIFACTS_URL/"
   ]
  }
 ],
 "metadata": {
  "kernelspec": {
   "display_name": "Python 3 (ipykernel)",
   "language": "python",
   "name": "python3"
  },
  "language_info": {
   "codemirror_mode": {
    "name": "ipython",
    "version": 3
   },
   "file_extension": ".py",
   "mimetype": "text/x-python",
   "name": "python",
   "nbconvert_exporter": "python",
   "pygments_lexer": "ipython3",
   "version": "3.10.4"
  }
 },
 "nbformat": 4,
 "nbformat_minor": 5
}
