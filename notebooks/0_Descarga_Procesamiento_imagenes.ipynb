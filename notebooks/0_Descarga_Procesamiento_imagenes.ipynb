{
 "cells": [
  {
   "cell_type": "markdown",
   "metadata": {},
   "source": [
    "## Descarga y procesamiento de imagenes DEM y LULC para modelo de inundaciones\n",
    "\n",
    "Este notebook presenta:\n",
    "\n",
    "1- codigo para descarga de imagenes DEM-SRTM desde la plataforma Google Earth Engine (GEE) y su posterior procesamiento para la conformacion del dataset a utilizar en el modelo de susceptibilidad a inundaciones. Es importante aclarar que para poder correr este notebook se debe estar registrado en GEE; si es necesario registrarse ingresar en https://earthengine.google.com/ y seguir los pasos alli detallados.\n",
    "\n",
    "2- procesamiento del mapa de Cobertura y Uso de Suelo 2021 (LULC 2021) elaborado por ESRI y descargados desde https://www.arcgis.com/apps/instant/media/index.html?appid=fc92d38533d440078f17678ebc20e8e2."
   ]
  },
  {
   "cell_type": "markdown",
   "metadata": {},
   "source": [
    "## 1 Descarga de DEM"
   ]
  },
  {
   "cell_type": "markdown",
   "metadata": {},
   "source": [
    "## 1.1 Importacion de librerias y definicion de variables"
   ]
  },
  {
   "cell_type": "code",
   "execution_count": null,
   "metadata": {},
   "outputs": [],
   "source": [
    "import ee\n",
    "import geemap\n",
    "import os\n",
    "from geemap import geojson_to_ee, ee_to_geojson\n",
    "from osgeo import gdal\n",
    "import numpy as np\n",
    "import shutil"
   ]
  },
  {
   "cell_type": "code",
   "execution_count": null,
   "metadata": {},
   "outputs": [],
   "source": [
    "#bucket con archivo vectorial del area de interes para modelo de inundaciones\n",
    "BUCKET_AOI = \"gs://dym-indunor-temp/immap/final/aux_data/floods_suscp/aoi/*.geojson\" \n",
    "\n",
    "#bucket donde se guardara la imagen DEM a descargas desde GEE\n",
    "BUCKET_SRTM = \"gs://dym-indunor-temp/immap/final/aux_data/floods_suscp/srtm/*.tif\"\n",
    "\n",
    "#creamos las carpeta a donde descargaremos los archivos desde bucket\n",
    "BASE_PATH = \"../\"\n",
    "PATH_AOI = f\"{BASE_PATH}/aoi_flood/\"\n",
    "SRTM_PATH = f\"{BASE_PATH}/srtm/\""
   ]
  },
  {
   "cell_type": "markdown",
   "metadata": {},
   "source": [
    "## 1.2. Autenticacion e Inicio de Google Earth Engine\n",
    "\n",
    "Como primer paso se debe autenticar el ingreso a los servidores de GEE y dar inicio. Una vez que se corra la celda a continuacion, se le va a solicitar que ingrese a su cuenta de Google para dar acceso. Siga las instrucciones, copie el codigo de autorizacion y peguelo en la celda vacia.\n",
    "\n",
    "Una vez que las credenciales de autenticacion han sido guardadas en el sistema, solo es necesario importar la API de Python para GEE e inicilizarlo. Para mas informacion, dirigase a https://developers.google.com/earth-engine/guides/python_install."
   ]
  },
  {
   "cell_type": "code",
   "execution_count": null,
   "metadata": {},
   "outputs": [],
   "source": [
    "# Trigger the authentication flow.\n",
    "#ee.Authenticate()\n",
    "\n",
    "# Initialize the library.\n",
    "ee.Initialize()"
   ]
  },
  {
   "cell_type": "markdown",
   "metadata": {},
   "source": [
    "## 1.3. Descarga de archivos desde bucket"
   ]
  },
  {
   "cell_type": "code",
   "execution_count": null,
   "metadata": {},
   "outputs": [],
   "source": [
    "!mkdir -p $PATH_AOI   #crea la carpeta\n",
    "!gsutil -m cp -r $BUCKET_AOI   $PATH_AOI # descarga de imagenes"
   ]
  },
  {
   "cell_type": "markdown",
   "metadata": {},
   "source": [
    "## 1.4. Descarga de imagenes DEM"
   ]
  },
  {
   "cell_type": "code",
   "execution_count": null,
   "metadata": {
    "scrolled": true
   },
   "outputs": [],
   "source": [
    "for file in os.listdir(PATH_AOI):\n",
    "    aoi = (geojson_to_ee(f'{PATH_AOI}{file}')).geometry()\n",
    "\n",
    "    srtm = ee.Image('USGS/SRTMGL1_003').clip(aoi)\n",
    "    \n",
    "    # descarga de imagen a bucket\n",
    "    task = ee.batch.Export.image.toCloudStorage(\n",
    "            image = srtm,\n",
    "            bucket = 'dym-indunor-temp/',\n",
    "            fileNamePrefix = f\"immap/final/aux_data/floods_suscp/srtm/dem_srtm_500m_32618\",\n",
    "            maxPixels = 8030040147504,\n",
    "            scale = 500,\n",
    "            region = aoi\n",
    "            crs='EPSG:32618')\n",
    "    \n",
    "    task.start()"
   ]
  },
  {
   "cell_type": "code",
   "execution_count": null,
   "metadata": {},
   "outputs": [],
   "source": [
    "# DESCARGO DEL BUCKET EL ARCHIVO DEM DESCARGADO DESDE GEE\n",
    "!mkdir -p $SRTM_PATH   #crea la carpeta\n",
    "!gsutil -m cp -r $BUCKET_SRTM   $SRTM_PATH # descarga de imagenes"
   ]
  },
  {
   "cell_type": "markdown",
   "metadata": {},
   "source": [
    "## 1.5. Preparacion del DEM"
   ]
  },
  {
   "cell_type": "code",
   "execution_count": null,
   "metadata": {},
   "outputs": [],
   "source": [
    "# setear los valores no dato como 'nan'\n",
    "for file in os.listdir(SRTM_PATH):\n",
    "    filename = f'{SRTM_PATH}{file}'\n",
    "    dem = gdal.Open(filename)\n",
    "    cols = dem.RasterXSize \n",
    "    rows = dem.RasterYSize \n",
    "    proj = dem.GetProjection()\n",
    "    geotr = dem.GetGeoTransform();\n",
    "    dem_raster = dem.GetRasterBand(1)\n",
    "    noDataVal = dem_raster.GetNoDataValue()\n",
    "    \n",
    "    dem_array = dem.GetRasterBand(1).ReadAsArray(0,0,cols,rows).astype(float) \n",
    "    dem_nodata = dem_array\n",
    "    dem_nodata[np.where(dem_array == noDataVal)] = np.nan\n",
    "    \n",
    "    #save new file\n",
    "    driver = gdal.GetDriverByName('GTiff')\n",
    "    file = driver.Create(f'{SRTM_PATH}dem_srtm_500m_32618_final.tif', cols, rows, 1, gdal.GDT_Float32)\n",
    "    file.GetRasterBand(1).WriteArray(dem_nodata)\n",
    "    file.GetRasterBand(1).SetNoDataValue(np.nan)\n",
    "\n",
    "    # spatial ref system\n",
    "    file.SetProjection(proj)\n",
    "    file.SetGeoTransform(geotr)\n",
    "    file.FlushCache()"
   ]
  },
  {
   "cell_type": "markdown",
   "metadata": {},
   "source": [
    "--------------------------------------------------------------------------------------------------------------------------------"
   ]
  },
  {
   "cell_type": "markdown",
   "metadata": {},
   "source": [
    "## 2. Procesamiento LULC para modelo inundaciones"
   ]
  },
  {
   "cell_type": "markdown",
   "metadata": {},
   "source": [
    "## 2.1. Importacion de librerias y definicion de variables"
   ]
  },
  {
   "cell_type": "code",
   "execution_count": null,
   "metadata": {},
   "outputs": [],
   "source": [
    "from osgeo import gdal\n",
    "from pathlib import Path\n",
    "import glob\n",
    "import numpy as np\n",
    "from os import remove\n",
    "import subprocess\n",
    "from os import remove\n",
    "import geopandas as gpd"
   ]
  },
  {
   "cell_type": "code",
   "execution_count": null,
   "metadata": {},
   "outputs": [],
   "source": [
    "#bucket con los archivos a utilizar\n",
    "#LULC\n",
    "BUCKET_LULC = \"gs://dym-indunor-temp/immap/final/aux_data/inf_settl/LULC/*.tif\"\n",
    "\n",
    "#creamos las carpetas a donde descargaremos los archivos desde el bucket\n",
    "BASE_PATH = \"../\"\n",
    "PATH_LULC_FILES = f\"{BASE_PATH}/LULC_files/\"\n",
    "\n",
    "#PARAMETROS GENERALES\n",
    "aoi = 'colombia'\n",
    "prj = \"32618\""
   ]
  },
  {
   "cell_type": "markdown",
   "metadata": {},
   "source": [
    "## 2.2. Descarga de archivos desde bucket"
   ]
  },
  {
   "cell_type": "code",
   "execution_count": null,
   "metadata": {},
   "outputs": [],
   "source": [
    "#LULC\n",
    "!mkdir -p $PATH_LULC_FILES   #crea la carpeta\n",
    "!gsutil -m cp -r $BUCKET_LULC   $PATH_LULC_FILES # descarga de archivos"
   ]
  },
  {
   "cell_type": "markdown",
   "metadata": {},
   "source": [
    "## 2.3. Generar LULC 500m para AOI"
   ]
  },
  {
   "cell_type": "code",
   "execution_count": null,
   "metadata": {},
   "outputs": [],
   "source": [
    "# unificar la proyeccion de los archivos LULC\n",
    "for file in os.listdir(PATH_LULC_FILES):\n",
    "    if file.endswith('.tif'):\n",
    "        ds = gdal.Open(f'{PATH_LULC_FILES}{file}')\n",
    "        output_file = f'{PATH_LULC_FILES}{file[0:-4]}_epsg{prj}.vrt'\n",
    "        dsReprj = gdal.Warp(output_file, ds, dstSRS=f'EPSG:{prj}')\n",
    "        ds = None\n",
    "        dsReprj = None\n",
    "\n",
    "#resample to 500m\n",
    "for file in os.listdir(PATH_LULC_FILES):\n",
    "    if file.endswith('epsg32618.vrt'):\n",
    "        infile_resample = f'{PATH_LULC_FILES}{file}'\n",
    "        outfile_resample = f'{PATH_LULC_FILES}{file[0:-4]}_500m.tif'\n",
    "        ds_subset = gdal.Open(infile_resample)\n",
    "        dsResampl = gdal.Warp(outfile_resample, ds_subset, xRes = 500, yRes = 500)\n",
    "        dsResampl = None\n",
    "        \n",
    "#mosaico\n",
    "search_criteria = f'{PATH_LULC_FILES}*_500m.tif'\n",
    "files_to_mosaic = glob.glob(os.path.join((Path(PATH_LULC_FILES)), search_criteria))\n",
    "g = gdal.Warp(f'{PATH_LULC_FILES}lulc2021_mosaic_500m.tif',files_to_mosaic, format=\"GTiff\", options=[\"TILED=YES\"])\n",
    "g = None\n",
    "del g\n",
    "\n",
    "#subset by aoi\n",
    "for file in os.listdir(PATH_AOI):\n",
    "    gdf = f'{PATH_AOI}{file}'\n",
    "    infile_subset = f'{PATH_LULC_FILES}lulc2021_mosaic_500m.tif'\n",
    "    outfile_subset = f'{PATH_LULC_FILES}lulc2021_aoi_flood.tif'\n",
    "    dataset_subset = gdal.Open(infile_subset)\n",
    "\n",
    "    ds_recorte = gdal.Warp(outfile_subset, dataset_subset , cutlineDSName = gdf, cropToCutline = True, dstNodata = np.nan)\n",
    "    ds_recorte = None\n",
    "\n",
    "#set no data as nan\n",
    "raster = gdal.Open(f'{PATH_LULC_FILES}lulc2021_aoi_flood.tif')\n",
    "noDataVal = raster.GetRasterBand(1).GetNoDataValue() \n",
    "array = raster.GetRasterBand(1).ReadAsArray(0,0,raster.RasterXSize,raster.RasterYSize).astype(float) \n",
    "reclass = array\n",
    "reclass[np.where(array == noDataVal)] = np.nan\n",
    "    \n",
    "#save new file\n",
    "driver = gdal.GetDriverByName('GTiff')\n",
    "file = driver.Create(f'{PATH_LULC_FILES}lulc2021_500m_final.tif', raster.RasterXSize,raster.RasterYSize, 1, gdal.GDT_Float32)\n",
    "file.GetRasterBand(1).WriteArray(reclass)\n",
    "file.GetRasterBand(1).SetNoDataValue(np.nan)\n",
    "\n",
    "# spatial ref system\n",
    "file.SetProjection(raster.GetProjection())\n",
    "file.SetGeoTransform(raster.GetGeoTransform())\n",
    "file.FlushCache()"
   ]
  },
  {
   "cell_type": "markdown",
   "metadata": {},
   "source": [
    "--------------------------------------------------------------------------------------------------------------------------------"
   ]
  },
  {
   "cell_type": "markdown",
   "metadata": {},
   "source": [
    "## 3. Creacion del dataset de inundaciones"
   ]
  },
  {
   "cell_type": "code",
   "execution_count": null,
   "metadata": {},
   "outputs": [],
   "source": [
    "from osgeo import gdal, osr\n",
    "import os\n",
    "import subprocess\n",
    "from pathlib import Path"
   ]
  },
  {
   "cell_type": "code",
   "execution_count": null,
   "metadata": {},
   "outputs": [],
   "source": [
    "DATASET_PATH = f\"{BASE_PATH}/dataset/\"\n",
    "!mkdir -p $DATASET_PATH "
   ]
  },
  {
   "cell_type": "code",
   "execution_count": null,
   "metadata": {},
   "outputs": [],
   "source": [
    "#movemos los archivos generados para el dataset a la carpeta de dataset\n",
    "#altitud\n",
    "shutil.move(f'{SRTM_PATH}dem_srtm_500m_32618_final.tif', DATASET_PATH)\n",
    "\n",
    "#lulc\n",
    "shutil.move(f'{PATH_LULC_FILES}lulc2021_500m_final.tif', DATASET_PATH)"
   ]
  },
  {
   "cell_type": "code",
   "execution_count": null,
   "metadata": {},
   "outputs": [],
   "source": [
    "#creacion dataset final\n",
    "os.chdir(DATASET_PATH)\n",
    "files = os.listdir()\n",
    "\n",
    "file_txt = 'files.txt'\n",
    "\n",
    "textfile = open(((Path(DATASET_PATH)/file_txt)), \"w\")\n",
    "for element in files:\n",
    "    textfile.write(element + \"\\n\")\n",
    "textfile.close()\n",
    "\n",
    "cmd = f'gdalbuildvrt -separate {DATASET_PATH}dataset.vrt -input_file_list {file_txt}'\n",
    "subprocess.run(cmd, shell=True)\n",
    "\n",
    "cmd2= f'gdalinfo dataset.vrt'\n",
    "subprocess.run(cmd2, shell=True)\n",
    "\n",
    "#reproyeccion a EPSG 4326\n",
    "ds_rp = gdal.Open('dataset.vrt')\n",
    "output_file = f'{DATASET_PATH}dataset_final.tif'\n",
    "\n",
    "gdal.UseExceptions()\n",
    "dsReprj = gdal.Warp(output_file, ds_rp, dstSRS='EPSG:4326')\n",
    "ds_rp = None\n",
    "dsReprj = None"
   ]
  },
  {
   "cell_type": "code",
   "execution_count": null,
   "metadata": {},
   "outputs": [],
   "source": []
  },
  {
   "cell_type": "code",
   "execution_count": null,
   "metadata": {},
   "outputs": [],
   "source": []
  },
  {
   "cell_type": "code",
   "execution_count": null,
   "metadata": {},
   "outputs": [],
   "source": []
  },
  {
   "cell_type": "code",
   "execution_count": null,
   "metadata": {},
   "outputs": [],
   "source": []
  },
  {
   "cell_type": "code",
   "execution_count": null,
   "metadata": {},
   "outputs": [],
   "source": []
  },
  {
   "cell_type": "code",
   "execution_count": null,
   "metadata": {},
   "outputs": [],
   "source": []
  }
 ],
 "metadata": {
  "hide_input": false,
  "kernelspec": {
   "display_name": "Python 3 (ipykernel)",
   "language": "python",
   "name": "python3"
  },
  "language_info": {
   "codemirror_mode": {
    "name": "ipython",
    "version": 3
   },
   "file_extension": ".py",
   "mimetype": "text/x-python",
   "name": "python",
   "nbconvert_exporter": "python",
   "pygments_lexer": "ipython3",
   "version": "3.7.12"
  },
  "toc": {
   "base_numbering": 1,
   "nav_menu": {},
   "number_sections": true,
   "sideBar": true,
   "skip_h1_title": true,
   "title_cell": "Table of Contents",
   "title_sidebar": "Table of Contents",
   "toc_cell": false,
   "toc_position": {},
   "toc_section_display": true,
   "toc_window_display": true
  },
  "varInspector": {
   "cols": {
    "lenName": 16,
    "lenType": 16,
    "lenVar": 40
   },
   "kernels_config": {
    "python": {
     "delete_cmd_postfix": "",
     "delete_cmd_prefix": "del ",
     "library": "var_list.py",
     "varRefreshCmd": "print(var_dic_list())"
    },
    "r": {
     "delete_cmd_postfix": ") ",
     "delete_cmd_prefix": "rm(",
     "library": "var_list.r",
     "varRefreshCmd": "cat(var_dic_list()) "
    }
   },
   "types_to_exclude": [
    "module",
    "function",
    "builtin_function_or_method",
    "instance",
    "_Feature"
   ],
   "window_display": false
  }
 },
 "nbformat": 4,
 "nbformat_minor": 4
}
